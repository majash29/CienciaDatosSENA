{
  "cells": [
    {
      "cell_type": "markdown",
      "metadata": {
        "id": "3XeSEvkXNvPT"
      },
      "source": [
        "# **Librerias en Python**\n",
        "Una libreria es una coleccion de calses y metodos los cuales nos permiten crear objetos sin la nececidad de programarlos explicitamente.\n",
        "\n",
        "Existen muchas librerias en python, las mas utilizadas por nosostros en el curso seran las siguientes: numpy, pandas, matplotlib, seaborn, sklearn y keras."
      ]
    },
    {
      "cell_type": "markdown",
      "metadata": {
        "id": "IDrRWo2jOnY2"
      },
      "source": [
        "# **01. Numpy (Numerical Python)**\n",
        "NumPy es el paquete fundamental para la computación científica en Python. Es una libreria que proporciona herramientas para la generación de arreglos y una variedad de funcionalidades para realizar operaciones sobre estos, que generalmente se realizan de una manera más eficiente que lo que se puede lograr con funcionalidades propias de Python. NumPy sirve como bloque básico para una gran cantidad de paquetes científicos y de análisis de datos.\n",
        "\n",
        "En el núcleo de la mayoría de los problemas encontramos un **arreglo**. Desde el punto de vista computacional, un arreglo es un bloque contiguo de memoria donde cada elemento tiene el mismo tipo.\n",
        "\n",
        "En resumen, estas son las diferencias más importantes entre los arreglos de NumPy y las secuencias estándar de Python:\n",
        "\n",
        "* Todos los elementos en un arreglo de NumPy deben ser del mismo tipo de dato y, por lo tanto, tendrán el mismo tamaño en memoria.\n",
        "* Los arreglos de NumPy tienen un tamaño fijo en la creación, a diferencia de las listas de Python (que pueden crecer dinámicamente). Cambiar el tamaño de un `ndarray` creará un nuevo arreglo y eliminará el original.\n",
        "* Los arreglos de NumPy facilitan las operaciones matemáticas avanzadas y de otro tipo en grandes cantidades de datos. Típicamente, tales operaciones se ejecutan de manera más eficiente que usando las secuencias integradas de Python."
      ]
    },
    {
      "cell_type": "markdown",
      "metadata": {
        "id": "hf4mnj-aPGyW"
      },
      "source": [
        "# **Arreglos de numpy**\n",
        "\n",
        "Los arreglos de numpy pueden tener diferente dimensionalidad\n",
        "\n",
        "<p><img alt=\"Colaboratory logo\" height=\"400px\" src=\"https://i.imgur.com/gqeCxo2.png\" align=\"left\" hspace=\"10px\" vspace=\"0px\"></p>"
      ]
    },
    {
      "cell_type": "markdown",
      "metadata": {
        "id": "F4-d0CoJQP2Q"
      },
      "source": [
        "# **Sintaxis**"
      ]
    },
    {
      "cell_type": "code",
      "execution_count": null,
      "metadata": {
        "id": "egCpwXh1QLmv"
      },
      "outputs": [],
      "source": [
        "#Instalación de la libreria numpy en colab\n",
        "# !pip install numpy\n",
        "\n",
        "#Instalación de la libreria numpy en VSCode\n",
        "# py -m pip install --upgrade pip\n",
        "# py -m pip install numpy\n",
        "\n",
        "# pip install numpy\n",
        "\n",
        "#Importación de la libreria numpy con alias de np\n",
        "import numpy as np\n",
        "\n",
        "#NOTA: No ejecutar los comandos al tiempo"
      ]
    },
    {
      "cell_type": "markdown",
      "metadata": {
        "id": "5AoUiluZRBts"
      },
      "source": [
        "# Numpy: **1D array ([vectores](https://es.khanacademy.org/math/multivariable-calculus/thinking-about-multivariable-function/x786f2022:vectors-and-matrices/a/vectors-and-notation-mvc))**\n",
        "\n",
        "\n",
        "*   Un arreglo unidimensional es una colecion de tipos de datos los cuales se encuntran indexados ( tal y como las listas ). A diferencia de las listas, los arreglos 1D ( y en general los arreglos de cualquier dimension ) solo pueden contener un tipo de dato.\n",
        "* Los arreglos de python soportan indexacion y slicing (se refiere a la capacidad de seleccionar un subconjunto de elementos de una lista)\n",
        "* Para crear un arreglo 1D de python, podemos usar una lista de numpy\n",
        "* Podemos construir un objeto `ndarray`, a partir de una lista de Python, mediante el constructor `array`: `np.array([1,4,5,7,8,9,4,3,8,9,4])`"
      ]
    },
    {
      "cell_type": "code",
      "execution_count": null,
      "metadata": {
        "id": "aQxNQysARo8r"
      },
      "outputs": [],
      "source": [
        "import numpy as np\n",
        "vector = np.array([1,4,5,7,8,9,4,3,8,9,4])\n",
        "print(vector)"
      ]
    },
    {
      "cell_type": "code",
      "execution_count": null,
      "metadata": {
        "id": "5yY12n83agU8"
      },
      "outputs": [],
      "source": [
        "import numpy\n",
        "vector = numpy.array([54, 567, 38])\n",
        "print(vector)"
      ]
    },
    {
      "cell_type": "code",
      "execution_count": null,
      "metadata": {
        "id": "zyL4US27dtWq"
      },
      "outputs": [],
      "source": [
        "# Cantidad de elementos del vector\n",
        "print(len(vector))\n",
        "\n",
        "# Indexacion del vector\n",
        "print(vector[3], vector[6])\n",
        "\n",
        "# Actualizacion de valores del vector\n",
        "vector[3] = 50\n",
        "\n",
        "# slicing del vector [indice_inicial:indice_fianl:paso]\n",
        "print(vector[2:9])\n",
        "print(vector[2:9:3])\n",
        "print(vector[:])\n",
        "print(vector[::5])\n",
        "\n",
        "# Ciclos\n",
        "for valor in vector:\n",
        "  print(valor)"
      ]
    },
    {
      "cell_type": "markdown",
      "metadata": {
        "id": "GBH8UR3WS3VH"
      },
      "source": [
        "El objeto `ndarray` representa efectivamente un bloque de memoria de tamaño fijo, el cual contiene una serie de atributos y métodos que definen su estructura, segun su número de dimensiones.\n",
        "# **Atributos**\n",
        "* **`ndarray.shape`**: devuelve la dimensión de una matriz (número de filas y columnas).\n",
        "* **`ndarray.ndim`**: devuelve la cantidad de dimensiones de una matriz.\n",
        "* **`ndarray.size`**: devuelve la cantidad total de elementos en una matriz.\n",
        "* **`ndarray.dtype`**: devuelve el tipo de datos de una matriz.\n",
        "* **`ndarray.itemsize`**: devuelve el tamaño en bytes de cada elemento de una matriz.\n",
        "* **`ndarray.data`**: devuelve los datos de una matriz en un objeto buffer."
      ]
    },
    {
      "cell_type": "code",
      "execution_count": null,
      "metadata": {
        "id": "ongifrTvULu3"
      },
      "outputs": [],
      "source": [
        "import numpy as np\n",
        "vector = np.array([1,4,5,7,8,9,4,3,8,9,4])\n",
        "#vector = np.array([[1,4,5,7,8,9,4,3,8,9,4], [1,4,5,7,8,9,4,3,8,9,4]])\n",
        "print(vector)\n",
        "\n",
        "# Atributos par 1D\n",
        "print(\"Tipo de arreglo: \",vector.dtype)\n",
        "print(\"Tamaño del arreglo: \",vector.size)\n",
        "print(\"Dimensiones del arreglo: \",vector.ndim)\n",
        "print(\"Elementos de cada dimension del arreglo: \",vector.shape)"
      ]
    },
    {
      "cell_type": "markdown",
      "metadata": {
        "id": "K1MOF94JXkEk"
      },
      "source": [
        "# **Métodos:**\n",
        "\n",
        "* **`np.array()`**: crea una matriz a partir de una secuencia de datos.\n",
        "* **`np.zeros()`**: crea una matriz de ceros con una forma específica.\n",
        "* **`np.ones()`**: crea una matriz de unos con una forma específica.\n",
        "* **`np.full()`**: crea una matriz con un valor constante con una forma específica.\n",
        "* **`ndarray.reshape()`**: cambia la forma de una matriz.\n",
        "* **`ndarray.transpose()`**: transpone una matriz.\n",
        "* **`ndarray.flatten()`**: convierte una matriz en un array de una dimensión.\n",
        "* **`ndarray.max()`**: devuelve el valor máximo de una matriz.\n",
        "* **`ndarray.min()`**: devuelve el valor mínimo de una matriz.\n",
        "* **`ndarray.sum()`**: devuelve la suma de los elementos de una matriz.\n",
        "* **`ndarray.mean()`**: devuelve la media de los elementos de una matriz.\n",
        "* **`ndarray.std()`**: devuelve la desviación estándar de los elementos de una matriz.\n",
        "* **`np.dot()`**: realiza la multiplicación matricial entre dos matrices.\n",
        "* **`np.random.rand()`**: genera una matriz de números aleatorios entre 0 y 1."
      ]
    },
    {
      "cell_type": "code",
      "execution_count": null,
      "metadata": {
        "colab": {
          "base_uri": "https://localhost:8080/"
        },
        "id": "0scP_AMpYONV",
        "outputId": "64e1af2e-e681-4d5f-d49b-ba0d1cb0dfeb"
      },
      "outputs": [
        {
          "name": "stdout",
          "output_type": "stream",
          "text": [
            "[1 2 3 4 5] <class 'numpy.ndarray'>\n",
            "\n",
            "140\n",
            "\n",
            "Suma es:  15\n",
            "Promedio es:  3.0\n",
            "Valor maximo :  5\n",
            "Valor minimo :  1\n",
            "Desviacion estandar:  1.41\n"
          ]
        }
      ],
      "source": [
        "import numpy as np\n",
        "# Metodo np.array() - crea una matriz a partir de una secuencia de datos.\n",
        "lista = [1, 2, 3, 4, 5]\n",
        "vector = np.array(lista)\n",
        "print(vector, type(vector))\n",
        "print()\n",
        "\n",
        "# Metodo np.dot() - realiza la multiplicación matricial entre dos matrices.\n",
        "matrizUno = np.array([2, 4, 6, 8])\n",
        "matrizDos = np.array([3, 5, 7, 9])\n",
        "resultado = np.dot(matrizUno, matrizDos)\n",
        "print(resultado)\n",
        "print()\n",
        "\n",
        "# Metodos estadisticos\n",
        "print(\"Suma es: \", vector.sum())\n",
        "print(\"Promedio es: \", vector.mean())\n",
        "print(\"Valor maximo : \", vector.max())\n",
        "print(\"Valor minimo : \", vector.min())\n",
        "print(\"Desviacion estandar: \", round(vector.std(), 2))"
      ]
    },
    {
      "cell_type": "markdown",
      "metadata": {
        "id": "Paslie0ucLgM"
      },
      "source": [
        "# Numpy: **2D arrys ([Matrices](https://es.khanacademy.org/math/multivariable-calculus/thinking-about-multivariable-function/x786f2022:vectors-and-matrices/a/matrices--intro-mvc))**\n",
        "Como se menciono anteriormente, es posible crear arreglos de mayor dimension. En este caso, veamos los arreglos 2D (tambien conocidos como matrices)"
      ]
    },
    {
      "cell_type": "code",
      "execution_count": null,
      "metadata": {
        "id": "ydYhY5ZAdUAR"
      },
      "outputs": [],
      "source": [
        "import numpy as np\n",
        "matriz = np.array(([1, 2, 5, 4], [9, 5, 5, 7], [6, 0, 0, 8], [3, 9, 6, 5]))\n",
        "print(matriz)"
      ]
    },
    {
      "cell_type": "code",
      "execution_count": null,
      "metadata": {
        "id": "wh1rBhRchREM"
      },
      "outputs": [],
      "source": [
        "# Cantidad de elementos de la matriz\n",
        "print(len(matriz))\n",
        "\n",
        "# Indexacion de la matriz\n",
        "print(matriz[2, 2])\n",
        "\n",
        "# Actualizacion de un valor de la amtriz\n",
        "matriz[2, 2] = 7\n",
        "\n",
        "# slicing de la matriz [vector, indice_inicial:indice_fianl:paso]\n",
        "print(matriz[2, :])\n",
        "\n",
        "# Ciclos\n",
        "for valor in matriz:\n",
        "  print(valor)"
      ]
    },
    {
      "cell_type": "code",
      "execution_count": null,
      "metadata": {
        "id": "J1abpW56iimV"
      },
      "outputs": [],
      "source": [
        "# Atributos 2D\n",
        "print(\"Tipo de matriz: \",matriz.dtype)\n",
        "print(\"Tamaño de la matriz: \",matriz.size)\n",
        "print(\"Dimensiones de la arreglo: \",matriz.ndim)\n",
        "print(\"Elementos de cada dimension de la matriz: \",matriz.shape)"
      ]
    },
    {
      "cell_type": "code",
      "execution_count": null,
      "metadata": {
        "id": "tNAvgyIclEBi"
      },
      "outputs": [],
      "source": [
        "# Metodo np.array() - crea una matriz a partir de una secuencia de datos.\n",
        "lista = [1, 2, 5, 4], [9, 5, 5, 7], [6, 0, 0, 8], [3, 9, 6, 5]\n",
        "matriz = np.array(lista)\n",
        "print(matriz, type(matriz))\n",
        "print()\n",
        "\n",
        "# Metodos propios de 2D\n",
        "# Cambiar la forma de la matriz a 4x4 a 2X8\n",
        "matriz_reshape = matriz.reshape(2, 8)\n",
        "print(\"\\nMatriz con forma cambiada:\")\n",
        "print(matriz_reshape)\n",
        "print()\n",
        "\n",
        "# Transponer la matriz\n",
        "print(\"\\nMatriz transpuesta:\")\n",
        "matriz_transpose = matriz.transpose()\n",
        "print(matriz_transpose)\n",
        "print()\n",
        "\n",
        "# Aplanar la matriz 1D\n",
        "print(\"\\nMatriz aplanada:\")\n",
        "matriz_flatten = matriz.flatten()\n",
        "print(matriz_flatten)"
      ]
    },
    {
      "cell_type": "markdown",
      "metadata": {
        "id": "yprpyYkQoI9r"
      },
      "source": [
        "# **Aplicacion de matrices**\n",
        "A continuación, se relacionan algunos ejemplos de aplicaciones comunes de la librería Numpy en Python:\n",
        "\n",
        "\n",
        "*   **Operaciones matemáticas vectorizadas:** Numpy permite realizar operaciones matemáticas vectorizadas en matrices y vectores de manera eficiente, sin tener que usar bucles.\n",
        "\n"
      ]
    },
    {
      "cell_type": "code",
      "execution_count": null,
      "metadata": {
        "id": "9M6WMsGVoWax"
      },
      "outputs": [],
      "source": [
        "import numpy as np\n",
        "vectorUno = np.array([1, 2, 3])\n",
        "vectorDos = np.array([4, 5, 6])\n",
        "\n",
        "# Suma de vectores\n",
        "suma = vectorUno + vectorDos\n",
        "print(suma,\"\\n\")\n",
        "\n",
        "sumaDos = vectorDos + 6\n",
        "print(sumaDos,\"\\n\")\n",
        "\n",
        "\n",
        "# Producto punto\n",
        "producto = np.dot(vectorUno, vectorDos)\n",
        "print(producto,\"\\n\")"
      ]
    },
    {
      "cell_type": "markdown",
      "metadata": {
        "id": "qyKhX4dtqFt1"
      },
      "source": [
        "*  **Generación de matrices y vectores:** Numpy proporciona funciones para generar matrices y vectores con valores predeterminados."
      ]
    },
    {
      "cell_type": "code",
      "execution_count": null,
      "metadata": {
        "id": "JdWAmPRpqTsN"
      },
      "outputs": [],
      "source": [
        "import numpy as np\n",
        "# Vector de ceros\n",
        "zeros = np.zeros(2)\n",
        "print(zeros, \"\\n\")\n",
        "\n",
        "# Vector de unos\n",
        "ones = np.ones(5)\n",
        "print(ones, \"\\n\")\n",
        "\n",
        "# Matriz identidad\n",
        "Midentity = np.eye(3)\n",
        "print(Midentity, \"\\n\")\n",
        "\n",
        "# Matriz aleatoria\n",
        "Mrandom = np.random.rand(3, 3)\n",
        "print(Mrandom, \"\\n\")"
      ]
    },
    {
      "cell_type": "markdown",
      "metadata": {
        "id": "VkKkDyyUrGsy"
      },
      "source": [
        "# **Ejercicios Numpy**\n",
        "1) Crear un arreglo 3x3 de numpy con todas las entradas igual a True\n",
        "\n",
        "2) Reemplazar todos los numeros impares del sigueinte arreglo por el valor de -1. \n",
        "\n",
        "`arr = np.array([0, 1, 2, 3, 4, 5, 6, 7, 8, 9])`\n",
        "\n",
        "3) Convertir el Siguiente arreglo 1D a un arreglo 2D. \n",
        "\n",
        "`arr = np.array([ 0, 1, 2, 3, 4, 5, 6, 7, 8, 9])`"
      ]
    },
    {
      "cell_type": "markdown",
      "metadata": {
        "id": "3ZsCzUynw-2p"
      },
      "source": [
        "**Solucion a los ejercicios**"
      ]
    },
    {
      "cell_type": "code",
      "execution_count": null,
      "metadata": {
        "id": "lUV3ppsPq9Al"
      },
      "outputs": [],
      "source": [
        "#Ejercicio 01\n",
        "var = np.array([[True]*3]*3)\n",
        "\n",
        "#Ejercicio 02\n",
        "# Opc 01\n",
        "arr = np.array([0, 1, 2, 3, 4, 5, 6, 7, 8, 9])\n",
        "new_arr = np.where(arr%2==1,-1,arr)\n",
        "print(new_arr)\n",
        "\n",
        "# Opc 02\n",
        "arr = np.array([0, 1, 2, 3, 4, 5, 6, 7, 8, 9])\n",
        "arr[arr%2!=0]=-1\n",
        "print(arr)\n",
        "\n",
        "# Opc 03\n",
        "# arr = np.array([0, 1, 2, 3, 4, 5, 6, 7, 8, 9])\n",
        "arr[1::2]=-1\n",
        "print(arr)\n",
        "\n",
        "#Ejercicio 03\n",
        "arr = np.array([0, 1, 2, 3, 4, 5, 6, 7, 8, 9])\n",
        "newarr = arr.reshape(5,2)\n",
        "print(newarr)"
      ]
    },
    {
      "cell_type": "markdown",
      "metadata": {
        "id": "c_o_oiuSfZkL"
      },
      "source": [
        "\n",
        "\n",
        "---\n",
        "\n"
      ]
    },
    {
      "cell_type": "markdown",
      "metadata": {
        "id": "r0sUA4Sbt0pS"
      },
      "source": [
        "# **02. Pandas (Análisis datos)**\n",
        "Pandas es una biblioteca de Python de código abierto que se utiliza principalmente para el análisis de datos y la manipulación de datos estructurados. La biblioteca proporciona estructuras de datos flexibles y de alto rendimiento diseñadas para facilitar la manipulación de datos y el análisis estadístico en Python.\n",
        "\n",
        "* Las estructuras de datos principales en Pandas son los objetos Series y DataFrame. Un **Series** es un arreglo unidimensional etiquetado de datos, mientras que un **DataFrame** es una estructura de datos bidimensional etiquetada con columnas de tipos potencialmente diferentes. Estos objetos permiten trabajar con datos estructurados y realizar operaciones como selección, filtrado, agrupamiento, fusión y pivote.\n",
        "\n",
        "* Además, Pandas también proporciona funciones para leer y escribir datos desde y hacia varios formatos, incluyendo archivos CSV, Excel, SQL, JSON, HTML y más."
      ]
    },
    {
      "cell_type": "markdown",
      "metadata": {
        "id": "Nu6GeEwFwZVu"
      },
      "source": [
        "# **Sintaxis**"
      ]
    },
    {
      "cell_type": "code",
      "execution_count": null,
      "metadata": {
        "id": "kFZBWD_pwXEf"
      },
      "outputs": [],
      "source": [
        "#Instalación de la libreria pandas en colab\n",
        "# !pip install pandas\n",
        "\n",
        "#Instalación de la libreria pandas en VSCode\n",
        "# py -m pip install pandas\n",
        "# pip install pandas\n",
        "\n",
        "#Importación de la libreria pandas con alias de pd\n",
        "import pandas as pd\n",
        "\n",
        "#NOTA: No ejecutar los comandos al tiempo"
      ]
    },
    {
      "cell_type": "markdown",
      "metadata": {
        "id": "zrIVbGkIvWHw"
      },
      "source": [
        "# **Atributos**\n",
        "\n",
        "Pandas tiene varios atributos útiles que proporcionan información sobre las estructuras de datos que estamos trabajando. Algunos de los atributos más comunes de Pandas son:\n",
        "\n",
        "* **`shape`**: devuelve una tupla que representa la forma (número de filas y columnas) del DataFrame.\n",
        "* **` index`**: devuelve la etiqueta de índice de las filas del DataFrame.\n",
        "* **`columns`**: devuelve la etiqueta de las columnas del DataFrame.\n",
        "* **`dtypes`**: devuelve los tipos de datos de las columnas del DataFrame.\n",
        "* **`values`**: devuelve los valores del DataFrame como un ndarray.\n",
        "* **`empty`**: devuelve True si el DataFrame está vacío, False en caso contrario.\n",
        "* **`size`**: devuelve el número total de elementos en el DataFrame.\n",
        "* **`ndim`**: devuelve la cantidad de dimensiones del DataFrame (1 para Series, 2 para DataFrame)."
      ]
    },
    {
      "cell_type": "code",
      "execution_count": null,
      "metadata": {
        "id": "kGcPAE_VwLVL"
      },
      "outputs": [],
      "source": [
        "import pandas as pd\n",
        "\n",
        "# Crear un DataFrame\n",
        "datos = pd.DataFrame ({\n",
        "   'Nombre': ['Juan', 'Ana', 'Pedro', 'Lucia'],\n",
        "   'Edad': [25, 30, 28, 22],\n",
        "   'Ciudad': ['Bogotá', 'Medellín', 'Cali', 'Barranquilla'],\n",
        "   'Profesion': ['Sistemas', 'Medicina', 'Mercadeo', 'Educacion'],\n",
        "    })\n",
        "\n",
        "# Imprimir la forma del DataFrame\n",
        "print(datos.shape, \"\\n\")\n",
        "\n",
        "# Imprimir las etiquetas de índice\n",
        "print(datos.index, \"\\n\")\n",
        "\n",
        "# Imprimir las etiquetas de columnas\n",
        "print(datos.columns, \"\\n\")\n",
        "\n",
        "# Imprimir los tipos de datos de las columnas\n",
        "print(datos.dtypes, \"\\n\")\n",
        "\n",
        "# Imprimir los valores del DataFrame\n",
        "print(datos.values, \"\\n\")\n",
        "\n",
        "# Imprimir si el DataFrame está vacío\n",
        "print(datos.empty, \"\\n\")\n",
        "\n",
        "# Imprimir el número total de elementos en el DataFrame\n",
        "print(datos.size, \"\\n\")\n",
        "\n",
        "# Imprimir la cantidad de dimensiones del DataFrame\n",
        "print(datos.ndim)"
      ]
    },
    {
      "cell_type": "markdown",
      "metadata": {
        "id": "71lC33vrzTUu"
      },
      "source": [
        "# **Métodos**\n",
        "Algunos de los métodos más comunes de Pandas son los siguientes:\n",
        "\n",
        "* **`pd.read_csv()`**: lee un archivo CSV y lo convierte en un DataFrame de Pandas.\n",
        "* **`df.head()`**: devuelve las primeras filas de un DataFrame.\n",
        "* **`df.tail()`**: devuelve las últimas filas de un DataFrame.\n",
        "* **`df.info()`**: muestra información sobre un DataFrame, incluyendo su tamaño y tipo de datos.\n",
        "* **`df.describe()`**: proporciona estadísticas descriptivas para un DataFrame, como la media, la desviación estándar, el mínimo y el máximo.\n",
        "* **`df.dropna()`**: elimina las filas que contienen valores nulos o faltantes de un DataFrame.\n",
        "* **`df.fillna()`**: rellena los valores nulos o faltantes de un DataFrame con un valor especificado.\n",
        "* **`df.groupby()`**: agrupa las filas de un DataFrame según los valores de una o más columnas y realiza operaciones agregadas en cada grupo.\n",
        "* **`df.merge()`**: combina dos DataFrames en uno solo mediante una columna común.\n",
        "* **`df.pivot_table()`**: crea una tabla dinámica a partir de un DataFrame.\n",
        "* **`df.plot()`**: crea un gráfico a partir de los datos de un DataFrame.\n",
        "* **`df.to_csv()`**: guarda un DataFrame como un archivo CSV."
      ]
    },
    {
      "cell_type": "markdown",
      "metadata": {
        "id": "eFvsVmap8Vu0"
      },
      "source": [
        "# **Gestion de archivos**\n",
        "\n",
        "# Archivos Planos\n",
        "\n",
        "`import pandas as pd`\n",
        "\n",
        "`dataframe = pd.read_csv(filepath_or_buffer, sep=',', delimiter=None, header='infer', names=None, index_col=None, usecols=None, dtype=None)`\n",
        "\n",
        "**Parametros:**\n",
        "\n",
        "* **`filepath_or_buffer`**: es la ruta del archivo CSV que se desea leer. Puede ser una ruta absoluta o relativa.\n",
        "sep: es el delimitador que se utiliza para separar los campos en el archivo CSV. Por defecto es ','.\n",
        "* **`delimiter`**: también es un delimitador que se utiliza para separar los campos en el archivo CSV. Si se especifica, anula el valor de sep.\n",
        "* **`header`**: indica la fila del archivo CSV que se utilizará como encabezado de la tabla. Por defecto es 'infer', lo que significa que Pandas utiliza la primera fila del archivo CSV como encabezado.\n",
        "* **`names`**: es una lista de nombres que se utilizarán como encabezados de la tabla. Si se especifica, anula el valor de header.\n",
        "* **`index_col`**: indica la columna que se utilizará como índice de la tabla. Por defecto es None, lo que significa que no se utiliza ninguna columna como índice.\n",
        "* **`usecols`**: es una lista de nombres de columnas o índices de columnas que se desean leer del archivo CSV.\n",
        "* **`dtype`**: es"
      ]
    },
    {
      "cell_type": "code",
      "execution_count": null,
      "metadata": {
        "id": "pub9M1dz0fTn"
      },
      "outputs": [],
      "source": [
        "import pandas as pd\n",
        "datasetPlano = pd.read_csv('CalificacionesTXT.csv', sep=';', encoding='ISO-8859-1')\n",
        "\n",
        "# Uso de los principales metodos\n",
        "print(datasetPlano)\n",
        "print()\n",
        "print(datasetPlano.head())\n",
        "print()\n",
        "print(datasetPlano.tail())\n",
        "print()\n",
        "print(datasetPlano.info())\n",
        "print()\n",
        "print(datasetPlano.describe())"
      ]
    },
    {
      "cell_type": "markdown",
      "metadata": {
        "id": "6VNTUJR7-Qoq"
      },
      "source": [
        "# Archivos de Excel\n",
        "`import pandas as pd`\n",
        "`data = pd.read_excel('ruta/archivo.xlsx', sheet_name='nombre_hoja', header=0, index_col=0)`\n",
        "\n",
        "Parametros: **texto en negrita**\n",
        "* **`'ruta/archivo.xlsx'`**: es la ruta y nombre del archivo Excel que se desea leer.\n",
        "* **`'nombre_hoja'`**: es el nombre de la hoja dentro del archivo que se desea leer. Si no se especifica este argumento, se leerá la primera hoja por defecto.\n",
        "* **`header=0`**: indica que la primera fila del archivo contiene los nombres de las columnas.\n",
        "* **`index_col=0`**: indica que la primera columna del archivo contiene los índices de las filas.\n"
      ]
    },
    {
      "cell_type": "code",
      "execution_count": null,
      "metadata": {
        "id": "ZQX4-vpB8GxZ"
      },
      "outputs": [],
      "source": [
        "# Gestion de archivos excel\n",
        "import pandas as pd\n",
        "datasetExcel = pd.read_excel('Calificaciones.xlsx')\n",
        "datasetExcel\n",
        "\n",
        "# Uso de los principales metodos para informacion general del dataset\n",
        "print(datasetExcel)\n",
        "print()\n",
        "print(datasetExcel.head())\n",
        "print()\n",
        "print(datasetExcel.tail())\n",
        "print()\n",
        "print(datasetExcel.info())\n",
        "print()\n",
        "print(datasetExcel.describe())"
      ]
    },
    {
      "cell_type": "markdown",
      "metadata": {
        "id": "5RTfrom6_v9D"
      },
      "source": [
        "# URLs\n"
      ]
    },
    {
      "cell_type": "code",
      "execution_count": null,
      "metadata": {
        "id": "jeAzCtXNAcZ4"
      },
      "outputs": [],
      "source": [
        "# URL de archivo plano en cualquier host - Github\n",
        "import pandas as pd\n",
        "url = 'https://raw.githubusercontent.com/majash29/CienciaDatosSENA/main/CalificacionesTXT.csv'\n",
        "datasetExcelURL = pd.read_csv(url, sep=';', encoding='ISO-8859-1')\n",
        "datasetExcelURL\n",
        "\n",
        "# Uso de los principales metodos para informacion general del dataset\n",
        "print(datasetExcelURL)\n",
        "print()\n",
        "print(datasetExcelURL.head())\n",
        "print()\n",
        "print(datasetExcelURL.tail())\n",
        "print()\n",
        "print(datasetExcelURL.info())\n",
        "print()\n",
        "print(datasetExcelURL.describe())"
      ]
    },
    {
      "cell_type": "code",
      "execution_count": null,
      "metadata": {
        "id": "Rp8kRoTnGJMG"
      },
      "outputs": [],
      "source": [
        "# URL de archivo Excel en cualquier host - Github\n",
        "import pandas as pd\n",
        "url = 'https://raw.githubusercontent.com/majash29/CienciaDatosSENA/main/Calificaciones.xlsx'\n",
        "datasetExcelURL = pd.read_excel(url, sheet_name='Hoja1')\n",
        "datasetExcelURL\n",
        "\n",
        "# Uso de los principales metodos para informacion general del dataset\n",
        "print(datasetExcelURL)\n",
        "print()\n",
        "print(datasetExcelURL.head())\n",
        "print()\n",
        "print(datasetExcelURL.tail())\n",
        "print()\n",
        "print(datasetExcelURL.info())\n",
        "print()\n",
        "print(datasetExcelURL.describe())"
      ]
    },
    {
      "cell_type": "code",
      "execution_count": null,
      "metadata": {
        "id": "UvznF3yYGaJN"
      },
      "outputs": [],
      "source": [
        "# URL de drive\n",
        "import pandas as pd\n",
        "url = 'https://docs.google.com/spreadsheets/d/1d6nkUnWw5r41IDQA7ggWAUIeMR4Zc9fc/edit?usp=sharing&ouid=112617284460207758071&rtpof=true&sd=true'\n",
        "path = 'https://drive.google.com/uc?export=download&id='+url.split('/')[-2]\n",
        "datasetExcelURL = pd.read_excel(path,  index_col=0)\n",
        "datasetExcelURL\n",
        "\n",
        "# Uso de los principales metodos para informacion general del dataset\n",
        "print(datasetExcelURL)\n",
        "print()\n",
        "print(datasetExcelURL.head())\n",
        "print()\n",
        "print(datasetExcelURL.tail())\n",
        "print()\n",
        "print(datasetExcelURL.info())\n",
        "print()\n",
        "print(datasetExcelURL.describe())"
      ]
    },
    {
      "cell_type": "markdown",
      "metadata": {
        "id": "NkLrbIF3O-MD"
      },
      "source": [
        "# **Aplicacion de dataFrame**"
      ]
    },
    {
      "cell_type": "code",
      "execution_count": 24,
      "metadata": {
        "colab": {
          "base_uri": "https://localhost:8080/"
        },
        "id": "gEmyWatSPCUj",
        "outputId": "a10102ca-8b70-4820-a707-e9970b9c186e"
      },
      "outputs": [
        {
          "name": "stdout",
          "output_type": "stream",
          "text": [
            "       NOMBRES  APELLIDOS        Programa     Genero  Matematicas  Español  \\\n",
            "ITEM                                                                         \n",
            "1         Juan     García    Contabilidad  Masculino         1.66     2.19   \n",
            "2        María      Pérez        Mercadeo   Femenino         3.21     2.54   \n",
            "3        Pedro  Fernández        Sistemas  Masculino         3.10     3.11   \n",
            "4          Ana    Sánchez  Administracion   Femenino          NaN     2.50   \n",
            "5         Luis   González           Salud  Masculino         2.91     2.59   \n",
            "6        Lucía   Martínez           Salud   Femenino         3.95     1.88   \n",
            "7        Diego      López  Administracion  Masculino         4.20     1.69   \n",
            "8     Fernanda     Torres        Sistemas   Femenino         4.08     1.68   \n",
            "9       Miguel     Flores        Mercadeo  Masculino         4.06     3.64   \n",
            "10    Carolina  Hernández    Contabilidad   Femenino         2.55     3.75   \n",
            "11       Sofía       Díaz    Contabilidad   Femenino         1.79     3.94   \n",
            "12      Javier     Romero        Mercadeo  Masculino          NaN     2.47   \n",
            "13     Valeria       Ruiz        Sistemas   Femenino         3.27     1.91   \n",
            "14       Elena    Álvarez  Administracion   Femenino         2.43     3.22   \n",
            "15      Andrés      Gómez           Salud  Masculino         3.59     3.27   \n",
            "16       Pedro      López    Contabilidad  Masculino         4.08     1.68   \n",
            "17         Ana     Torres        Mercadeo   Femenino         4.06     3.64   \n",
            "18        Luis     Flores        Sistemas  Masculino         2.55     3.75   \n",
            "19       Lucía      Gómez        Sistemas   Femenino         1.79     3.94   \n",
            "20      Alvaro      Perez        Sistemas  Masculino         4.05     5.00   \n",
            "\n",
            "      Ciencias  Idiomas  \n",
            "ITEM                     \n",
            "1         3.56     2.58  \n",
            "2         1.98     3.76  \n",
            "3         2.62     2.42  \n",
            "4         3.66     1.93  \n",
            "5         2.45      NaN  \n",
            "6         2.67     1.69  \n",
            "7         2.36     3.24  \n",
            "8         4.16     2.94  \n",
            "9          NaN     3.28  \n",
            "10        1.84     3.17  \n",
            "11        3.70     2.16  \n",
            "12        2.25      NaN  \n",
            "13        3.40     2.27  \n",
            "14        2.27     2.36  \n",
            "15        1.97     2.41  \n",
            "16        4.16     2.94  \n",
            "17        4.31     3.28  \n",
            "18        1.84     3.17  \n",
            "19        3.70     2.16  \n",
            "20        3.70     4.00  \n",
            "\n",
            "<class 'pandas.core.frame.DataFrame'>\n",
            "Int64Index: 20 entries, 1 to 20\n",
            "Data columns (total 8 columns):\n",
            " #   Column       Non-Null Count  Dtype  \n",
            "---  ------       --------------  -----  \n",
            " 0   NOMBRES      20 non-null     object \n",
            " 1   APELLIDOS    20 non-null     object \n",
            " 2   Programa     20 non-null     object \n",
            " 3   Genero       20 non-null     object \n",
            " 4   Matematicas  18 non-null     float64\n",
            " 5   Español      20 non-null     float64\n",
            " 6   Ciencias     19 non-null     float64\n",
            " 7   Idiomas      18 non-null     float64\n",
            "dtypes: float64(4), object(4)\n",
            "memory usage: 1.4+ KB\n",
            "None\n"
          ]
        }
      ],
      "source": [
        "import pandas as pd\n",
        "url = 'https://docs.google.com/spreadsheets/d/1d6nkUnWw5r41IDQA7ggWAUIeMR4Zc9fc/edit?usp=sharing&ouid=112617284460207758071&rtpof=true&sd=true'\n",
        "path = 'https://drive.google.com/uc?export=download&id='+url.split('/')[-2]\n",
        "datasetExcelURL = pd.read_excel(path,  index_col=0)\n",
        "\n",
        "print(datasetExcelURL)\n",
        "print()\n",
        "print(datasetExcelURL.info())"
      ]
    },
    {
      "cell_type": "code",
      "execution_count": null,
      "metadata": {
        "colab": {
          "base_uri": "https://localhost:8080/"
        },
        "id": "HVXUN63nQyUn",
        "outputId": "3ef85573-b282-4a2c-dda3-e74ded08efae"
      },
      "outputs": [],
      "source": [
        "# 01.1 Eliminar las filas con valores nulos del dataset completo\n",
        "datasetNuevo = datasetExcelURL.dropna()\n",
        "print(datasetNuevo)\n",
        "print()\n",
        "print(datasetNuevo.info())"
      ]
    },
    {
      "cell_type": "code",
      "execution_count": null,
      "metadata": {
        "id": "2Xe-RbF9nolA"
      },
      "outputs": [],
      "source": [
        "# 01.2 Eliminar las filas con valores nulos de una categoria(columna) especifica\n",
        "datasetNuevo = datasetExcelURL[\"Matematicas\"]\n",
        "datasetNuevo = datasetNuevo.dropna()\n",
        "print(datasetNuevo)\n",
        "print()\n",
        "print(datasetNuevo.info())"
      ]
    },
    {
      "cell_type": "code",
      "execution_count": null,
      "metadata": {
        "id": "25YPaAUnSwnT"
      },
      "outputs": [],
      "source": [
        "# 02.1 Rellenar los valores nulos con el valor 0\n",
        "datasetNuevo = datasetExcelURL.fillna(2.8)\n",
        "print(datasetNuevo)\n",
        "print()\n",
        "print(datasetNuevo.info())"
      ]
    },
    {
      "cell_type": "code",
      "execution_count": null,
      "metadata": {
        "id": "x38oedK2n2oA"
      },
      "outputs": [],
      "source": [
        "# 02.2 Rellenar las filas con valores nulos de una categoria(columna) especifica\n",
        "datasetNuevo = datasetExcelURL[\"Idiomas\"]\n",
        "datasetNuevo = datasetNuevo.fillna(0.0)\n",
        "print(datasetNuevo)\n",
        "print()\n",
        "print(datasetNuevo.info())"
      ]
    },
    {
      "cell_type": "code",
      "execution_count": null,
      "metadata": {
        "id": "uDcr5kjBnoTw"
      },
      "outputs": [],
      "source": [
        "# 03. crea un gráfico a partir de los datos de un DataFrame.\n",
        "print(datasetNuevo[\"Idiomas\"].plot())\n",
        "print(datasetNuevo[\"Español\"].plot())"
      ]
    },
    {
      "cell_type": "markdown",
      "metadata": {
        "id": "pSnxHgc-hbA6"
      },
      "source": [
        "**Nota:** teniendo encuenta el entendimiento del negocio se debe tomar la determinacion para los datos faltantes si son remplazados por un valor determinado o si son eleiminados.\n",
        "\n",
        "\n",
        "---\n",
        "\n"
      ]
    },
    {
      "cell_type": "markdown",
      "metadata": {
        "id": "bgPsgWxb0VeH"
      },
      "source": [
        "**df.groupby()** es un método de pandas que se utiliza para agrupar filas de un DataFrame según los valores de una o varias columnas y realizar operaciones en cada grupo.\n",
        "\n",
        "La sintaxis básica del método es la siguiente:\n",
        "```\n",
        "dataframe.groupby('columna_a_agrupar').metodo_agregado()\n",
        "```\n",
        "\n",
        "Donde `'columna_a_agrupar'` es el nombre de la columna que se va a utilizar para agrupar las filas del DataFrame y metodo_agregado() es un método de agregación que se va a aplicar sobre los grupos. Algunos de los métodos de agregación más comunes son **`sum()`, `count()`, `mean()`, `min()`, `max()`**."
      ]
    },
    {
      "cell_type": "code",
      "execution_count": null,
      "metadata": {
        "id": "zcs6zNNLiA1i"
      },
      "outputs": [],
      "source": [
        "# 04. Agrupacion de informacion del dataset\n",
        "\n",
        "# 04.1 Cantidad de estudiantes por programa\n",
        "est_programa = datasetNuevo.groupby('Programa').count() # Opc01\n",
        "print(est_programa,'\\n')\n",
        "est_programa = datasetNuevo.groupby('Programa').agg({'Programa': 'count'}) # Opc02\n",
        "print(est_programa,'\\n')\n",
        "est_programa = datasetNuevo.groupby('Programa') # Opc03\n",
        "print(est_programa.size(),'\\n')\n",
        "\n",
        "# 04.2 Cantidad de estudiantes por genero\n",
        "est_genero = datasetNuevo.groupby('Genero').agg({'Genero': 'count'})\n",
        "print(est_genero)\n",
        "print()\n",
        "\n",
        "# 04.3 Cantidad de estudiantes por programa y genero\n",
        "est_programa_genero = datasetNuevo.groupby(['Programa','Genero']).agg({'Programa': 'count'})\n",
        "print(est_programa_genero)\n",
        "print()\n",
        "\n",
        "est_programa_genero = datasetNuevo.groupby(['Programa','Genero'])\n",
        "est_programa_genero.size()\n",
        "\n",
        "# 04.4 Cantidad de estudiantes por programa que aprueban Matematicas\n",
        "aprueba_matematicas = datasetNuevo['Matematicas'] >= 4.0\n",
        "aprueba_matematicas = aprueba_matematicas.replace({False: 'No aprobado', True: 'Aprobado'}) #Opcional\n",
        "estado_aprueba_matematicas = datasetNuevo.groupby(aprueba_matematicas)['Matematicas'].count()\n",
        "print(estado_aprueba_matematicas)"
      ]
    },
    {
      "cell_type": "code",
      "execution_count": null,
      "metadata": {
        "colab": {
          "base_uri": "https://localhost:8080/"
        },
        "id": "i4oW_xrVq8dk",
        "outputId": "1f41a821-58ac-4510-d143-d64b9bf0cdfa"
      },
      "outputs": [],
      "source": [
        "# 05. Operaciones y generaion de nuevas columnas\n",
        "datasetNuevo['Promedio'] = (datasetNuevo['Matematicas'] + datasetNuevo['Español'] + datasetNuevo['Ciencias'] + datasetNuevo['Idiomas']) / 4\n",
        "print(datasetNuevo)"
      ]
    },
    {
      "cell_type": "markdown",
      "metadata": {
        "id": "mk0hoeuF4Rt6"
      },
      "source": [
        "**pivot_table()** es un método de pandas que permite crear una tabla dinámica a partir de un DataFrame. Permite reorganizar y resumir los datos de un DataFrame de manera más conveniente. \n",
        "\n",
        "La sintaxis básica es la siguiente:\n",
        "\n",
        "```\n",
        "df.pivot_table(\n",
        "  values=None, # Columna(s) para aplicar la operación\n",
        "  index=None, # Columna(s) a utilizar como índice (filas)\n",
        "  columns=None, # Columna(s) a utilizar como columnas\n",
        "  aggfunc='mean', # Función de agregación a aplicar a los valores\n",
        "  fill_value=None, # Valor a reemplazar los valores faltantes\n",
        "  margins=False, # Agregar totales en los bordes\n",
        "  margins_name='All' # Nombre de los totales del borde\n",
        ")\n",
        "```"
      ]
    },
    {
      "cell_type": "code",
      "execution_count": null,
      "metadata": {
        "id": "IwhX3coW3SMv"
      },
      "outputs": [],
      "source": [
        "# 06. Tablas de resumen o tablas dinamicas\n",
        "tabla_dinamica = datasetNuevo.pivot_table(\n",
        "    values=['Matematicas', 'Español', 'Ciencias', 'Idiomas'], \n",
        "    index=['Programa', 'Genero'], \n",
        "    aggfunc='mean',\n",
        ")\n",
        "\n",
        "print(tabla_dinamica)"
      ]
    },
    {
      "cell_type": "code",
      "execution_count": 27,
      "metadata": {
        "id": "v2EEbWQK1ipD"
      },
      "outputs": [],
      "source": [
        "# 07. Exportar el dataset procesado a un archivo\n",
        "\n",
        "# 07.1 Exportar como un archivo de Excel\n",
        "datasetNuevo.to_excel('datos.xlsx', index=False)\n",
        "\n",
        "# 07.2 Exportar como un archivo de CSV\n",
        "datasetNuevo.to_csv('datos.csv', index=False)"
      ]
    }
  ],
  "metadata": {
    "colab": {
      "provenance": []
    },
    "kernelspec": {
      "display_name": "Python 3",
      "name": "python3"
    },
    "language_info": {
      "name": "python"
    }
  },
  "nbformat": 4,
  "nbformat_minor": 0
}
