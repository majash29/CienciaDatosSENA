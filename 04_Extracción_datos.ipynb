{
  "nbformat": 4,
  "nbformat_minor": 0,
  "metadata": {
    "colab": {
      "provenance": []
    },
    "kernelspec": {
      "name": "python3",
      "display_name": "Python 3"
    },
    "language_info": {
      "name": "python"
    }
  },
  "cells": [
    {
      "cell_type": "markdown",
      "source": [
        "**<center><h1>EXTRACCIÓN DE DATOS</h1></center>**"
      ],
      "metadata": {
        "id": "nTbIJmWEeqOC"
      }
    },
    {
      "cell_type": "markdown",
      "source": [
        "La extracción de datos es una de las tareas más importantes en el análisis de datos. La extracción de datos se refiere a la recuperación de información de una o varias fuentes de datos y su almacenamiento en un formato que pueda ser utilizado para análisis. <br>Puede ser el primer paso en la creación de un conjunto de datos que se utilizará para análisis posteriores.  <br><br>\n",
        "Existen varias herramientas y técnicas que pueden utilizarse para la extracción de datos en análisis de datos, incluyendo: \n",
        "*   Web Scraping\n",
        "*   Bases de Datos\n",
        "*   Archivos de Texto\n",
        "*   APIs\n",
        "*   Otros\n",
        "<br><br>\n",
        "\n",
        "En este notebook, aprenderás cómo extraer datos de páginas web y documentos utilizando técnicas de webscraping en Python. "
      ],
      "metadata": {
        "id": "VQKXusb5fKE8"
      }
    },
    {
      "cell_type": "markdown",
      "source": [
        "**Webscraping** es una técnica que nos permite recuperar información estructurada de una página web y almacenarla en un formato que podamos utilizar para análisis posteriores."
      ],
      "metadata": {
        "id": "HZ2M5Y-GhYkI"
      }
    },
    {
      "cell_type": "markdown",
      "source": [
        "Inicialmente vamos a obtener los datos de un pdf el cual debes subir en el espacio correspondiente."
      ],
      "metadata": {
        "id": "U6ZMmfSTj49V"
      }
    },
    {
      "cell_type": "markdown",
      "source": [
        "# **Extracción de datos desde un documento**"
      ],
      "metadata": {
        "id": "6pHkb1sKoxQK"
      }
    },
    {
      "cell_type": "code",
      "source": [
        "#Instalar la librería PyPDF2\n",
        "!pip install PyPDF2"
      ],
      "metadata": {
        "colab": {
          "base_uri": "https://localhost:8080/"
        },
        "id": "8CWn-lVbkd1e",
        "outputId": "0058b1cc-65bb-46e8-fcdd-28b10f3edffd"
      },
      "execution_count": 4,
      "outputs": [
        {
          "output_type": "stream",
          "name": "stdout",
          "text": [
            "Looking in indexes: https://pypi.org/simple, https://us-python.pkg.dev/colab-wheels/public/simple/\n",
            "Requirement already satisfied: PyPDF2 in /usr/local/lib/python3.10/dist-packages (3.0.1)\n"
          ]
        }
      ]
    },
    {
      "cell_type": "code",
      "execution_count": 5,
      "metadata": {
        "id": "LAGOKk0LeU6-"
      },
      "outputs": [],
      "source": [
        "#Importamos las librerías\n",
        "import PyPDF2\n",
        "import openpyxl"
      ]
    },
    {
      "cell_type": "code",
      "source": [
        "# Crear un archivo de Excel\n",
        "wb = openpyxl.Workbook()"
      ],
      "metadata": {
        "id": "eSJL6JgwkHk2"
      },
      "execution_count": 6,
      "outputs": []
    },
    {
      "cell_type": "code",
      "source": [
        "# Crear una hoja de trabajo\n",
        "ws = wb.active"
      ],
      "metadata": {
        "id": "62Pwy-CUkKRp"
      },
      "execution_count": 7,
      "outputs": []
    },
    {
      "cell_type": "code",
      "source": [
        "# Escribir encabezados de columnas\n",
        "ws['A1'] = 'Documento'\n",
        "ws['B1'] = 'Nombre'\n",
        "ws['C1'] = 'Apellidos'\n",
        "ws['D1'] = 'Área de residencia'\n",
        "ws['E1'] = 'Tipo colegio'\n",
        "ws['F1'] = 'Género'\n",
        "ws['G1'] = 'Estrato'\n",
        "ws['H1'] = 'Nota Matematicas'\n",
        "ws['I1'] = 'Nota Lecto Escritura'\n",
        "ws['J1'] = 'Apoyo económico de padres'\n",
        "ws['K1'] = 'Último grado cursado'"
      ],
      "metadata": {
        "id": "2js5BiHmkMeH"
      },
      "execution_count": 8,
      "outputs": []
    },
    {
      "cell_type": "code",
      "source": [
        "#Abrir y recorrer el archivo pdf\n",
        "with open('Datos Aprendices.pdf', 'rb') as pdf_file:\n",
        "    # Crear un objeto de lector de PDF\n",
        "    pdf_reader = PyPDF2.PdfReader(pdf_file)\n",
        "\n",
        "    # Obtener el número de páginas del PDF\n",
        "    num_paginas = len(pdf_reader.pages)\n",
        "\n",
        "    # Iterar sobre todas las páginas y extraer el texto\n",
        "    for pagina in range(num_paginas):\n",
        "        page = pdf_reader.pages[pagina]\n",
        "        text = page.extract_text()   \n",
        "        matriz = text.split()\n",
        "        \n",
        "        row = ws.max_row + 1\n",
        "\n",
        "        for i in range(len(matriz)):\n",
        "            if \"Documento\" in matriz[i]:\n",
        "                documento = matriz[i+1]\n",
        "                ws.cell(row=row, column=1, value=documento)\n",
        "            \n",
        "            if \"Nombre\" in matriz[i]:\n",
        "                nombre = matriz[i+1]\n",
        "                ws.cell(row=row, column=2, value=nombre)\n",
        "            \n",
        "            if \"Apellidos\" in matriz[i]:\n",
        "                apellidos = matriz[i+1]\n",
        "                ws.cell(row=row, column=3, value=apellidos)\n",
        "            \n",
        "            if \"residencia\" in matriz[i]:\n",
        "                area = matriz[i+1]\n",
        "                ws.cell(row=row, column=4, value=area)\n",
        "            \n",
        "            if \"colegio\" in matriz[i]:\n",
        "                colegio = matriz[i+1]\n",
        "                ws.cell(row=row, column=5, value=colegio)\n",
        "            \n",
        "            if \"Género\" in matriz[i]:\n",
        "                genero = matriz[i+1]\n",
        "                ws.cell(row=row, column=6, value=genero)\n",
        "            \n",
        "            if \"Estrato\" in matriz[i]:\n",
        "                estrato = matriz[i+1]\n",
        "                ws.cell(row=row, column=7, value=estrato)\n",
        "            \n",
        "            if \"Matemáticas\" in matriz[i]:\n",
        "                matematicas = matriz[i+1]\n",
        "                ws.cell(row=row, column=8, value=matematicas)\n",
        "            \n",
        "            if \"Escritura\" in matriz[i]:\n",
        "                lecto = matriz[i+1]\n",
        "                ws.cell(row=row, column=9, value=lecto)\n",
        "            \n",
        "            if \"padres\" in matriz[i]:\n",
        "                padres = matriz[i+1]\n",
        "                ws.cell(row=row, column=10, value=padres)\n",
        "            \n",
        "            if \"cursad\" in matriz[i]:\n",
        "                grado = matriz[i+2]\n",
        "                ws.cell(row=row, column=11, value=grado)   "
      ],
      "metadata": {
        "id": "exKjvUXmkRdh"
      },
      "execution_count": 10,
      "outputs": []
    },
    {
      "cell_type": "code",
      "source": [
        "# Escribir el archivo de Excel        \n",
        "wb.save('datos_pdf.xlsx') "
      ],
      "metadata": {
        "id": "9Mv3K8BOlL7V"
      },
      "execution_count": 11,
      "outputs": []
    },
    {
      "cell_type": "markdown",
      "source": [
        "# **Extracción de datos de una web**"
      ],
      "metadata": {
        "id": "PNKgqOyBmvzl"
      }
    },
    {
      "cell_type": "code",
      "source": [
        "import requests\n",
        "import pandas as pd\n",
        "from bs4 import BeautifulSoup"
      ],
      "metadata": {
        "id": "KtuJyI71m25U"
      },
      "execution_count": 12,
      "outputs": []
    },
    {
      "cell_type": "code",
      "source": [
        "# Descargar la página web\n",
        "url = \"https://ingdanielbs.github.io/Datos/\"\n",
        "response = requests.get(url)"
      ],
      "metadata": {
        "id": "oeUwL3Ofm6cS"
      },
      "execution_count": 13,
      "outputs": []
    },
    {
      "cell_type": "code",
      "source": [
        "# Analizar el HTML con BeautifulSoup\n",
        "soup = BeautifulSoup(response.content, \"html.parser\")"
      ],
      "metadata": {
        "id": "4KtoxNwem-DS"
      },
      "execution_count": 14,
      "outputs": []
    },
    {
      "cell_type": "code",
      "source": [
        "# Encontrar la tabla y obtener los datos\n",
        "table = soup.find(\"table\")"
      ],
      "metadata": {
        "id": "fw9zG3aZnAdv"
      },
      "execution_count": 15,
      "outputs": []
    },
    {
      "cell_type": "code",
      "source": [
        "if table is not None:\n",
        "    rows = table.find_all(\"tr\")\n",
        "    # Resto del código aquí\n",
        "    data = []\n",
        "    for row in rows:\n",
        "        cols = row.find_all(\"td\")\n",
        "        cols = [col.text.strip() for col in cols]\n",
        "        data.append(cols)\n",
        "\n",
        "    # Convertir los datos en un DataFrame de Pandas\n",
        "    df = pd.DataFrame(data, columns=[\"Documento\", \"Nombre\", \"Apellidos\", \"Direccción\", \"Teléfono\", \"Edad\", \"Estatura\"])\n",
        "\n",
        "    # Escribir el DataFrame en un archivo de Excel\n",
        "    df.to_excel(\"datos.xlsx\", index=False)\n",
        "else:\n",
        "    print(\"La tabla no fue encontrada\")"
      ],
      "metadata": {
        "id": "ovuL9H57nDn1"
      },
      "execution_count": 17,
      "outputs": []
    },
    {
      "cell_type": "markdown",
      "source": [
        "A continuación vamos a generar un nuevo dataset con la unión de los archivos creados anteriormente."
      ],
      "metadata": {
        "id": "VvqrKa75nWom"
      }
    },
    {
      "cell_type": "code",
      "source": [
        "# Cargar los datos de ambos archivos\n",
        "datos = pd.read_excel('datos.xlsx')\n",
        "datos_pdf = pd.read_excel('datos_pdf.xlsx')\n",
        "\n",
        "# Unir los datos basados en la columna \"Documento\", especificando qué columnas incluir\n",
        "datos_unidos = pd.merge(datos, datos_pdf[['Documento', 'Área de residencia', 'Tipo colegio', 'Género', 'Estrato', 'Nota Matematicas', 'Nota Lecto Escritura', 'Apoyo económico de padres', 'Último grado cursado']], on='Documento')\n",
        "\n",
        "# Guardar los datos unidos en un nuevo archivo de Excel\n",
        "datos_unidos.to_excel('Dataset_final.xlsx', index=False)"
      ],
      "metadata": {
        "id": "NFOEwnj5nhde"
      },
      "execution_count": 18,
      "outputs": []
    }
  ]
}