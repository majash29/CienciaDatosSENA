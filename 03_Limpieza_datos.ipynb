{
  "nbformat": 4,
  "nbformat_minor": 0,
  "metadata": {
    "colab": {
      "provenance": []
    },
    "kernelspec": {
      "name": "python3",
      "display_name": "Python 3"
    },
    "language_info": {
      "name": "python"
    }
  },
  "cells": [
    {
      "cell_type": "markdown",
      "source": [
        "**<center><h1>LIMPIEZA Y TRANSFORMACIÓN DE DATOS</h1><center>**"
      ],
      "metadata": {
        "id": "i4ucQxUk8Hm2"
      }
    },
    {
      "cell_type": "markdown",
      "source": [
        "El proceso de preprocesamiento de datos se lleva a cabo una vez que hemos explorado y limpiado nuestro conjunto de datos, de modo que entendamos su contenido, estructura y calidad. Al explorar nuestros datos, es probable que obtengamos una buena idea de cómo queremos modelarlos, lo cual nos ayudará a decidir la mejor manera de preprocesarlos para que estén listos para el modelado desde el principio."
      ],
      "metadata": {
        "id": "n88zPZfz8VnH"
      }
    },
    {
      "cell_type": "code",
      "execution_count": null,
      "metadata": {
        "id": "EoZvT4i6vD-z"
      },
      "outputs": [],
      "source": [
        "#Importar la librería Pandas e instalación de pandas-profiling\n",
        "import pandas as pd\n",
        "!pip install pandas-profiling[notebook]"
      ]
    },
    {
      "cell_type": "code",
      "source": [
        "#Cargar el dataset\n",
        "df = pd.read_csv(\"clientes.csv\")"
      ],
      "metadata": {
        "id": "inzB774ZwD_C"
      },
      "execution_count": 12,
      "outputs": []
    },
    {
      "cell_type": "code",
      "source": [
        "#Obtener información del dataset\n",
        "df.info()"
      ],
      "metadata": {
        "id": "idpjzm19wMUk"
      },
      "execution_count": null,
      "outputs": []
    },
    {
      "cell_type": "markdown",
      "source": [
        "# **Tratamiento de valores nulos**"
      ],
      "metadata": {
        "id": "Lz_9pLd-wzIo"
      }
    },
    {
      "cell_type": "markdown",
      "source": [
        "Los datos nulos o faltantes pueden ser problemáticos en un conjunto de datos, ya que pueden afectar la precisión de los análisis. Para tratar los datos nulos o faltantes, podemos utilizar varias funciones que veremos a continuación."
      ],
      "metadata": {
        "id": "O4e-yfOkG7Bz"
      }
    },
    {
      "cell_type": "code",
      "source": [
        "#Obtener la cantidad de nulos por columna\n",
        "df.isnull().sum()"
      ],
      "metadata": {
        "id": "yv-syUNbErqr"
      },
      "execution_count": null,
      "outputs": []
    },
    {
      "cell_type": "markdown",
      "source": [
        "Otra forma de conocer la cantidad de valores nulos, duplicados, correlación, entre otros datos, es utilizar pandas_profiling "
      ],
      "metadata": {
        "id": "yWsVvoXGpJI6"
      }
    },
    {
      "cell_type": "code",
      "source": [
        "#Crear un reporte HTML del dataset para conocer valores nulos, repetidos, etc.\n",
        "from pandas_profiling import ProfileReport\n",
        "report = ProfileReport(df)\n",
        "report.to_file(output_file='reporte.html')"
      ],
      "metadata": {
        "id": "U5rILKhxmahy"
      },
      "execution_count": null,
      "outputs": []
    },
    {
      "cell_type": "code",
      "source": [
        "#Eliminar filas específicas donde se encuentran los valores nulos\n",
        "df = df.drop([16, 30, 35])"
      ],
      "metadata": {
        "id": "DnxNp0jpH2bB"
      },
      "execution_count": null,
      "outputs": []
    },
    {
      "cell_type": "code",
      "source": [
        "#Eliminar todos los registros que contengan valores nulos\n",
        "df.dropna()"
      ],
      "metadata": {
        "id": "tEPtcx6MGErN"
      },
      "execution_count": null,
      "outputs": []
    },
    {
      "cell_type": "markdown",
      "source": [
        "Otro tratamiento para los datos nulos o faltantes, es utilizar la función fillna() de la librería Pandas en Python. Por ejemplo, podemos llenar los valores nulos con la media de la columna utilizando el siguiente código:"
      ],
      "metadata": {
        "id": "DWBo9FMJM4Pr"
      }
    },
    {
      "cell_type": "code",
      "source": [
        "# Tratamiento de valores nulos con fillna. Recuerda cargar nuevamente el df, en la celda de codigo 7 \n",
        "numeric_cols = df.select_dtypes(include=['float64', 'int64']).columns\n",
        "df.fillna(df[numeric_cols].mean(axis=0), inplace=True)"
      ],
      "metadata": {
        "id": "0wbZq9LFMyWh"
      },
      "execution_count": 9,
      "outputs": []
    },
    {
      "cell_type": "markdown",
      "source": [
        "# **Tratamiento de valores atípicos**"
      ],
      "metadata": {
        "id": "VLSN15IYxIaa"
      }
    },
    {
      "cell_type": "markdown",
      "source": [
        "Pandas ofrece varias funciones que se pueden usar para tratar valores atípicos o valores anómalos en un conjunto de datos."
      ],
      "metadata": {
        "id": "lrrQz59YxSjF"
      }
    },
    {
      "cell_type": "markdown",
      "source": [
        "Una opción común es simplemente eliminar los valores atípicos del conjunto de datos. Esto se puede hacer utilizando el método ``` drop() ``` de Pandas.\n",
        "```\n",
        "#df = df.drop(df[df['nombre_columna'] > limite_superior].index)\n",
        "#df = df.drop(df[df['nombre_columna'] < limite_inferior].index)\n",
        "```\n",
        "\n",
        "\n",
        "\n",
        "\n",
        "\n"
      ],
      "metadata": {
        "id": "oFGgOP5yB7eS"
      }
    },
    {
      "cell_type": "code",
      "source": [
        "#Podemos conocer valores mínimos y máximos de cada columna con describe()\n",
        "df.describe()"
      ],
      "metadata": {
        "id": "Fz8Ik4QpE5TI"
      },
      "execution_count": null,
      "outputs": []
    },
    {
      "cell_type": "code",
      "source": [
        "#Visualizar valores atípicos con gráficos\n",
        "df.boxplot(column='Edad')"
      ],
      "metadata": {
        "id": "S9dwLEWvFQg5"
      },
      "execution_count": null,
      "outputs": []
    },
    {
      "cell_type": "code",
      "source": [
        "#Eliminamos valores atípicos de la columna edad\n",
        "df = df.drop(df[df['Edad'] < 18].index)"
      ],
      "metadata": {
        "id": "IgNZgkeVxP0I"
      },
      "execution_count": 9,
      "outputs": []
    },
    {
      "cell_type": "markdown",
      "source": [
        "Otra opción es reemplazar los valores atípicos con algún valor más adecuado. Esto se puede hacer utilizando la función replace() de Pandas.\n",
        "```\n",
        "df.loc[df['nombre_columna'] > limite_superior, 'nombre_columna'] = limite_superior\n",
        "```\n",
        "\n"
      ],
      "metadata": {
        "id": "YOt_M6Q3F1tH"
      }
    },
    {
      "cell_type": "code",
      "source": [
        "#Cambiar las edades superiores a 90 por 90\n",
        "df.loc[df['Edad'] > 90, 'Edad'] = 90"
      ],
      "metadata": {
        "id": "TqkjJahVF1PK"
      },
      "execution_count": null,
      "outputs": []
    },
    {
      "cell_type": "markdown",
      "source": [
        "# **Eliminar variables irrelevantes**"
      ],
      "metadata": {
        "id": "0EiDolqPOVPa"
      }
    },
    {
      "cell_type": "markdown",
      "source": [
        "\n",
        "Para eliminar variables irrelevantes (también conocidas como características o atributos) de un DataFrame en Pandas, puedes utilizar la función drop(). Esta función elimina una o varias columnas de un DataFrame. Puedes seleccionar las columnas que deseas eliminar utilizando su nombre o su índice.\n",
        "```\n",
        "df = df.drop(['columna1', 'columna2'], axis=1)\n",
        "```\n",
        "\n",
        "```\n",
        "df = df.drop(df.columns[[0, 2]], axis=1)\n",
        "\n",
        "```\n",
        "\n",
        "\n",
        "\n"
      ],
      "metadata": {
        "id": "Le9Ds1bAQYdh"
      }
    },
    {
      "cell_type": "code",
      "source": [
        "#Elimina la columna \"Nombre\" por etiqueta o nombre\n",
        "df = df.drop(['Nombre'], axis=1)"
      ],
      "metadata": {
        "id": "OFFO6YpUOU6S"
      },
      "execution_count": null,
      "outputs": []
    },
    {
      "cell_type": "code",
      "source": [
        "#Elimina la columna \"ID del cliente y Última fecha de compra\" por indice\n",
        "df = df.drop(df.columns[[0, 1]], axis=1)"
      ],
      "metadata": {
        "id": "ROmh6xjXEaC7"
      },
      "execution_count": 17,
      "outputs": []
    },
    {
      "cell_type": "markdown",
      "source": [
        "# Trasformación de variables"
      ],
      "metadata": {
        "id": "W79IjZ2GTEKv"
      }
    },
    {
      "cell_type": "markdown",
      "source": [
        "**Codificación one-hot:** esta técnica implica crear una columna binaria para cada categoría de la variable categórica. La columna tendrá un valor de 1 si la categoría está presente y 0 en caso contrario. Pandas tiene una función get_dummies() que realiza esta codificación automáticamente."
      ],
      "metadata": {
        "id": "FgU1aeXWTr8k"
      }
    },
    {
      "cell_type": "code",
      "source": [
        "#Transforma la columna 'Método de pago'\n",
        "df = pd.get_dummies(df, columns=['Método de pago'])"
      ],
      "metadata": {
        "id": "DrIEafSVSZf3"
      },
      "execution_count": 19,
      "outputs": []
    },
    {
      "cell_type": "markdown",
      "source": [
        "**Codificación ordinal:** esta técnica implica asignar un número único a cada categoría de la variable categórica en orden de importancia o frecuencia."
      ],
      "metadata": {
        "id": "NBxuqf3xUa0o"
      }
    },
    {
      "cell_type": "code",
      "source": [
        "#Transforma columna 'Categoría de productos comprados'\n",
        "df['Categoría de productos comprados'] = df['Categoría de productos comprados'].map({'Ropa': 1, 'Juguetes': 2, 'Electrónica': 3, 'Alimentos':4})\n"
      ],
      "metadata": {
        "id": "88GPrJUlUaeM"
      },
      "execution_count": 21,
      "outputs": []
    },
    {
      "cell_type": "markdown",
      "source": [
        "# Renombrar columnas"
      ],
      "metadata": {
        "id": "Qj71vSv9WT_s"
      }
    },
    {
      "cell_type": "markdown",
      "source": [
        "\n",
        "Renombrar las columnas de un DataFrame de Pandas es una tarea común en el análisis de datos. A menudo, los nombres de las columnas pueden ser poco claros o difíciles de entender, o pueden contener errores. "
      ],
      "metadata": {
        "id": "7YHLx7SkXOZR"
      }
    },
    {
      "cell_type": "code",
      "source": [
        "#Renombra las columnas del df\n",
        "df.columns = ['frecuencia_compra', 'valor_promedio_compra', 'categoria_compra', 'edad', 'pago_efectivo', 'pago_credito', 'pago_transferencia']"
      ],
      "metadata": {
        "id": "AVWoRz2bWToI"
      },
      "execution_count": 23,
      "outputs": []
    }
  ]
}