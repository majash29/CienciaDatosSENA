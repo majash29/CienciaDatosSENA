{
  "cells": [
    {
      "cell_type": "markdown",
      "metadata": {
        "id": "85q_B4CvoLUS"
      },
      "source": [
        "# **Estadística descriptiva**\n",
        "\n",
        "La estadística descriptiva ayuda a simplificar grandes cantidades de datos, a resumirlos de forma concisa, y a evaluar diferentes formas de visualización.\n",
        "\n",
        "Veamos algunos conceptos: Las unidades en las que medimos los datos (como personas, autos, animales o plantas) se llaman **observaciones**. El conjunto de todas las observaciones se conoce como **población**. Si consideramos una selección de observaciones, entonces estas observaciones se denominan **muestra**. Una muestra es siempre un subconjunto de la población. En resumen:\n",
        "\n",
        "* **Población:** Es un conjunto de objetos o elementos sobre los que se busca información. \n",
        "* **Muestra:** Es una parte de la población que se observa."
      ]
    },
    {
      "cell_type": "markdown",
      "metadata": {
        "id": "u-alLf19oLUV"
      },
      "source": [
        "## **Tipos de datos**\n",
        "\n",
        "Si hemos especificado la población de interés para una pregunta de investigación concreta, podemos pensar en qué nos interesa de nuestras observaciones. Una característica particular de estas observaciones puede recogerse en una variable $X$. Cualquier información que nos interese puede recogerse en dicha variable. \n",
        "\n",
        "Por ejemplo, si nuestras observaciones se refieren diamantes, $X$ puede describir el peso, la calidad del corte, el precio o cualquier otra característica que pueda relacionarse con un diamante. Por supuesto, podemos estar interesados en muchas características diferentes, cada una de ellas recogida en una variable diferente.\n",
        "\n",
        "### **Clasificaremos los datos en diferentes tipos:**\n",
        "\n",
        "* **Cuantitativos:** datos asociados a una medición de alguna cantidad en una\n",
        "unidad de observación\n",
        "* **Cualitativos:** datos asociados a alguna cualidad o propiedad de una unidad de observación\n",
        "* **Lógicos:** datos que representan Verdadero o Falso\n",
        "* **Faltantes(missing):** datos que deberían estar ahí pero no lo están (que veremos luego)\n",
        "\n",
        "<p><img alt=\"Colaboratory logo\" height=\"250px\" src=\"https://geekflare.com/wp-content/uploads/2022/07/qualitativeandqunatitative.png\" align=\"left\" hspace=\"10px\" vspace=\"0px\"></p>"
      ]
    },
    {
      "cell_type": "markdown",
      "metadata": {
        "id": "QmJhaaWOoLUW"
      },
      "source": [
        "## **1. Datos cuantitativos**\n",
        "\n",
        "Los datos cuantitativos son todos aquellos que miden o están asociados a una medición de la cantidad de algo. **Asumen invariablemente valores numéricos**. Los datos cuantitativos pueden pueden subdividirse en dos categorías: \n",
        "\n",
        "* **Datos discretos:** Son variables que sólo pueden tomar un número finito de valores. Es decir, todos los valores posibles podrían (al menos en principio) escribirse en una lista ordenada. Por ejemplo, la talla de los zapatos, el número de estrellas o el número de semestres estudiados serían discretos porque el número de valores que estas variables pueden tomar es limitado.\n",
        "\n",
        "* **Datos continuos:** Las variables que pueden tomar un número infinito de valores se llaman **variables continuas**. Además, las diferencias entre estos valores pueden interpretarse de forma significativa. Por ejemplo, el precio de un diamante se refiere a una variable continua porque los valores pueden ordenarse (\\$170, \\$171, \\$172, ...), y las diferencias entre estos valores pueden compararse (la diferencia entre \\$170 y \\$171 es la misma que la diferencia entre \\$171 y \\$172). \n",
        "\n",
        "A veces se dice que las variables continuas son variables que \"se miden en lugar de contarse\". Esta es una definición bastante informal que ayuda a entender la diferencia entre las variables discretas y las continuas.\n",
        "\n",
        "Note que la distinción entre datos discretos y continuos no siempre es clara, por lo que en ocasiones es conveniente tratar los datos como si fueran continuos, aunque estrictamente no sean continuos."
      ]
    },
    {
      "cell_type": "markdown",
      "source": [
        "## **Distribución de Datos Estadísticos (*Tabla*)**"
      ],
      "metadata": {
        "id": "KgfkJJnPsgyi"
      }
    },
    {
      "cell_type": "code",
      "source": [
        "# Datos cuantitativos - Discretos - Tabla\n",
        "\n",
        "import pandas as pd\n",
        "datasetCD = pd.read_excel('Estadistica.xlsx', sheet_name = 'Cuantitativos_Discretos')\n",
        "\n",
        "# Calcula la frecuencia absoluta utilizando el método value_counts() de Pandas\n",
        "frecuencia = datasetCD['Talla_Zapatos'].value_counts().reset_index()\n",
        "frecuencia.columns = ['Talla_Zapatos', 'Frecuencia_Absoluta']\n",
        "\n",
        "# Calcula la frecuencia absoluta acumulada\n",
        "frecuencia['Frecuencia_Acumulada_Absoluta'] = frecuencia['Frecuencia_Absoluta'].cumsum()\n",
        "\n",
        "# Calcula la frecuencia relativa (frecuencia absoluta / suma de todas las frecuencias absolutas)\n",
        "suma_absoluta = frecuencia[\"Frecuencia_Absoluta\"].sum()\n",
        "frecuencia[\"Frecuencia_Relativa\"] = frecuencia[\"Frecuencia_Absoluta\"] / suma_absoluta\n",
        "\n",
        "# Calcula la frecuencia relativa acumulada\n",
        "frecuencia['Frecuencia_Acumulada_Relativa'] = frecuencia['Frecuencia_Relativa'].cumsum()\n",
        "\n",
        "# Imprime la tabla de frecuencias (Absoluta - Relativa - Acumulada)\n",
        "frecuencia"
      ],
      "metadata": {
        "id": "9UBwT42DoOqv",
        "colab": {
          "base_uri": "https://localhost:8080/",
          "height": 488
        },
        "outputId": "dfc00d3b-2eb1-409c-dc71-aa6bc5c93e17"
      },
      "execution_count": null,
      "outputs": [
        {
          "output_type": "execute_result",
          "data": {
            "text/plain": [
              "    Talla_Zapatos  Frecuencia_Absoluta  Frecuencia_Acumulada_Absoluta  \\\n",
              "0              38                    8                              8   \n",
              "1              39                    8                             16   \n",
              "2              37                    5                             21   \n",
              "3              40                    5                             26   \n",
              "4              33                    4                             30   \n",
              "5              36                    4                             34   \n",
              "6              42                    4                             38   \n",
              "7              34                    2                             40   \n",
              "8              35                    2                             42   \n",
              "9              41                    2                             44   \n",
              "10             43                    2                             46   \n",
              "11             44                    2                             48   \n",
              "12             31                    1                             49   \n",
              "13             32                    1                             50   \n",
              "\n",
              "    Frecuencia_Relativa  Frecuencia_Acumulada_Relativa  \n",
              "0                  0.16                           0.16  \n",
              "1                  0.16                           0.32  \n",
              "2                  0.10                           0.42  \n",
              "3                  0.10                           0.52  \n",
              "4                  0.08                           0.60  \n",
              "5                  0.08                           0.68  \n",
              "6                  0.08                           0.76  \n",
              "7                  0.04                           0.80  \n",
              "8                  0.04                           0.84  \n",
              "9                  0.04                           0.88  \n",
              "10                 0.04                           0.92  \n",
              "11                 0.04                           0.96  \n",
              "12                 0.02                           0.98  \n",
              "13                 0.02                           1.00  "
            ],
            "text/html": [
              "\n",
              "  <div id=\"df-a45f98dd-738b-4c9b-a0b7-53ecd388a14d\">\n",
              "    <div class=\"colab-df-container\">\n",
              "      <div>\n",
              "<style scoped>\n",
              "    .dataframe tbody tr th:only-of-type {\n",
              "        vertical-align: middle;\n",
              "    }\n",
              "\n",
              "    .dataframe tbody tr th {\n",
              "        vertical-align: top;\n",
              "    }\n",
              "\n",
              "    .dataframe thead th {\n",
              "        text-align: right;\n",
              "    }\n",
              "</style>\n",
              "<table border=\"1\" class=\"dataframe\">\n",
              "  <thead>\n",
              "    <tr style=\"text-align: right;\">\n",
              "      <th></th>\n",
              "      <th>Talla_Zapatos</th>\n",
              "      <th>Frecuencia_Absoluta</th>\n",
              "      <th>Frecuencia_Acumulada_Absoluta</th>\n",
              "      <th>Frecuencia_Relativa</th>\n",
              "      <th>Frecuencia_Acumulada_Relativa</th>\n",
              "    </tr>\n",
              "  </thead>\n",
              "  <tbody>\n",
              "    <tr>\n",
              "      <th>0</th>\n",
              "      <td>38</td>\n",
              "      <td>8</td>\n",
              "      <td>8</td>\n",
              "      <td>0.16</td>\n",
              "      <td>0.16</td>\n",
              "    </tr>\n",
              "    <tr>\n",
              "      <th>1</th>\n",
              "      <td>39</td>\n",
              "      <td>8</td>\n",
              "      <td>16</td>\n",
              "      <td>0.16</td>\n",
              "      <td>0.32</td>\n",
              "    </tr>\n",
              "    <tr>\n",
              "      <th>2</th>\n",
              "      <td>37</td>\n",
              "      <td>5</td>\n",
              "      <td>21</td>\n",
              "      <td>0.10</td>\n",
              "      <td>0.42</td>\n",
              "    </tr>\n",
              "    <tr>\n",
              "      <th>3</th>\n",
              "      <td>40</td>\n",
              "      <td>5</td>\n",
              "      <td>26</td>\n",
              "      <td>0.10</td>\n",
              "      <td>0.52</td>\n",
              "    </tr>\n",
              "    <tr>\n",
              "      <th>4</th>\n",
              "      <td>33</td>\n",
              "      <td>4</td>\n",
              "      <td>30</td>\n",
              "      <td>0.08</td>\n",
              "      <td>0.60</td>\n",
              "    </tr>\n",
              "    <tr>\n",
              "      <th>5</th>\n",
              "      <td>36</td>\n",
              "      <td>4</td>\n",
              "      <td>34</td>\n",
              "      <td>0.08</td>\n",
              "      <td>0.68</td>\n",
              "    </tr>\n",
              "    <tr>\n",
              "      <th>6</th>\n",
              "      <td>42</td>\n",
              "      <td>4</td>\n",
              "      <td>38</td>\n",
              "      <td>0.08</td>\n",
              "      <td>0.76</td>\n",
              "    </tr>\n",
              "    <tr>\n",
              "      <th>7</th>\n",
              "      <td>34</td>\n",
              "      <td>2</td>\n",
              "      <td>40</td>\n",
              "      <td>0.04</td>\n",
              "      <td>0.80</td>\n",
              "    </tr>\n",
              "    <tr>\n",
              "      <th>8</th>\n",
              "      <td>35</td>\n",
              "      <td>2</td>\n",
              "      <td>42</td>\n",
              "      <td>0.04</td>\n",
              "      <td>0.84</td>\n",
              "    </tr>\n",
              "    <tr>\n",
              "      <th>9</th>\n",
              "      <td>41</td>\n",
              "      <td>2</td>\n",
              "      <td>44</td>\n",
              "      <td>0.04</td>\n",
              "      <td>0.88</td>\n",
              "    </tr>\n",
              "    <tr>\n",
              "      <th>10</th>\n",
              "      <td>43</td>\n",
              "      <td>2</td>\n",
              "      <td>46</td>\n",
              "      <td>0.04</td>\n",
              "      <td>0.92</td>\n",
              "    </tr>\n",
              "    <tr>\n",
              "      <th>11</th>\n",
              "      <td>44</td>\n",
              "      <td>2</td>\n",
              "      <td>48</td>\n",
              "      <td>0.04</td>\n",
              "      <td>0.96</td>\n",
              "    </tr>\n",
              "    <tr>\n",
              "      <th>12</th>\n",
              "      <td>31</td>\n",
              "      <td>1</td>\n",
              "      <td>49</td>\n",
              "      <td>0.02</td>\n",
              "      <td>0.98</td>\n",
              "    </tr>\n",
              "    <tr>\n",
              "      <th>13</th>\n",
              "      <td>32</td>\n",
              "      <td>1</td>\n",
              "      <td>50</td>\n",
              "      <td>0.02</td>\n",
              "      <td>1.00</td>\n",
              "    </tr>\n",
              "  </tbody>\n",
              "</table>\n",
              "</div>\n",
              "      <button class=\"colab-df-convert\" onclick=\"convertToInteractive('df-a45f98dd-738b-4c9b-a0b7-53ecd388a14d')\"\n",
              "              title=\"Convert this dataframe to an interactive table.\"\n",
              "              style=\"display:none;\">\n",
              "        \n",
              "  <svg xmlns=\"http://www.w3.org/2000/svg\" height=\"24px\"viewBox=\"0 0 24 24\"\n",
              "       width=\"24px\">\n",
              "    <path d=\"M0 0h24v24H0V0z\" fill=\"none\"/>\n",
              "    <path d=\"M18.56 5.44l.94 2.06.94-2.06 2.06-.94-2.06-.94-.94-2.06-.94 2.06-2.06.94zm-11 1L8.5 8.5l.94-2.06 2.06-.94-2.06-.94L8.5 2.5l-.94 2.06-2.06.94zm10 10l.94 2.06.94-2.06 2.06-.94-2.06-.94-.94-2.06-.94 2.06-2.06.94z\"/><path d=\"M17.41 7.96l-1.37-1.37c-.4-.4-.92-.59-1.43-.59-.52 0-1.04.2-1.43.59L10.3 9.45l-7.72 7.72c-.78.78-.78 2.05 0 2.83L4 21.41c.39.39.9.59 1.41.59.51 0 1.02-.2 1.41-.59l7.78-7.78 2.81-2.81c.8-.78.8-2.07 0-2.86zM5.41 20L4 18.59l7.72-7.72 1.47 1.35L5.41 20z\"/>\n",
              "  </svg>\n",
              "      </button>\n",
              "      \n",
              "  <style>\n",
              "    .colab-df-container {\n",
              "      display:flex;\n",
              "      flex-wrap:wrap;\n",
              "      gap: 12px;\n",
              "    }\n",
              "\n",
              "    .colab-df-convert {\n",
              "      background-color: #E8F0FE;\n",
              "      border: none;\n",
              "      border-radius: 50%;\n",
              "      cursor: pointer;\n",
              "      display: none;\n",
              "      fill: #1967D2;\n",
              "      height: 32px;\n",
              "      padding: 0 0 0 0;\n",
              "      width: 32px;\n",
              "    }\n",
              "\n",
              "    .colab-df-convert:hover {\n",
              "      background-color: #E2EBFA;\n",
              "      box-shadow: 0px 1px 2px rgba(60, 64, 67, 0.3), 0px 1px 3px 1px rgba(60, 64, 67, 0.15);\n",
              "      fill: #174EA6;\n",
              "    }\n",
              "\n",
              "    [theme=dark] .colab-df-convert {\n",
              "      background-color: #3B4455;\n",
              "      fill: #D2E3FC;\n",
              "    }\n",
              "\n",
              "    [theme=dark] .colab-df-convert:hover {\n",
              "      background-color: #434B5C;\n",
              "      box-shadow: 0px 1px 3px 1px rgba(0, 0, 0, 0.15);\n",
              "      filter: drop-shadow(0px 1px 2px rgba(0, 0, 0, 0.3));\n",
              "      fill: #FFFFFF;\n",
              "    }\n",
              "  </style>\n",
              "\n",
              "      <script>\n",
              "        const buttonEl =\n",
              "          document.querySelector('#df-a45f98dd-738b-4c9b-a0b7-53ecd388a14d button.colab-df-convert');\n",
              "        buttonEl.style.display =\n",
              "          google.colab.kernel.accessAllowed ? 'block' : 'none';\n",
              "\n",
              "        async function convertToInteractive(key) {\n",
              "          const element = document.querySelector('#df-a45f98dd-738b-4c9b-a0b7-53ecd388a14d');\n",
              "          const dataTable =\n",
              "            await google.colab.kernel.invokeFunction('convertToInteractive',\n",
              "                                                     [key], {});\n",
              "          if (!dataTable) return;\n",
              "\n",
              "          const docLinkHtml = 'Like what you see? Visit the ' +\n",
              "            '<a target=\"_blank\" href=https://colab.research.google.com/notebooks/data_table.ipynb>data table notebook</a>'\n",
              "            + ' to learn more about interactive tables.';\n",
              "          element.innerHTML = '';\n",
              "          dataTable['output_type'] = 'display_data';\n",
              "          await google.colab.output.renderOutput(dataTable, element);\n",
              "          const docLink = document.createElement('div');\n",
              "          docLink.innerHTML = docLinkHtml;\n",
              "          element.appendChild(docLink);\n",
              "        }\n",
              "      </script>\n",
              "    </div>\n",
              "  </div>\n",
              "  "
            ]
          },
          "metadata": {},
          "execution_count": 1
        }
      ]
    },
    {
      "cell_type": "code",
      "source": [
        "# Datos cuantitativos - Continuos - Tabla\n",
        "\n",
        "import numpy as np\n",
        "import pandas as pd\n",
        "\n",
        "datasetCC = pd.read_excel('Estadistica.xlsx', sheet_name = 'Cuantitativos_Continuos')\n",
        "\n",
        "# Definir los límites de los intervalos\n",
        "# Aquí se utiliza la regla de Sturges para determinar el número de intervalos\n",
        "num_intervalos = int(1 + 3.322 * np.log10(len(datasetCC))) \n",
        "\n",
        "# Crear la columna de intervalos\n",
        "datasetCC['Intervalos'] = pd.cut(datasetCC['Peso_Estudiantes'], bins=num_intervalos)\n",
        "\n",
        "# Calcular la frecuencia absoluta\n",
        "frecuencia = datasetCC['Intervalos'].value_counts().sort_index().reset_index()\n",
        "frecuencia.columns = ['Intervalos', 'Frecuencia_Absoluta']\n",
        "\n",
        "# Calcular la frecuencia absoluta acumulada\n",
        "frecuencia['Frecuencia_Acumulada_Absoluta'] = frecuencia['Frecuencia_Absoluta'].cumsum()\n",
        "\n",
        "# Calcular la frecuencia relativa\n",
        "suma_absoluta = frecuencia['Frecuencia_Absoluta'].sum()\n",
        "frecuencia['Frecuencia_Relativa'] = frecuencia['Frecuencia_Absoluta'] / suma_absoluta\n",
        "\n",
        "# Calcula la frecuencia relativa acumulada\n",
        "frecuencia['Frecuencia_Acumulada_Relativa'] = frecuencia['Frecuencia_Relativa'].cumsum()\n",
        "\n",
        "# Imprimir la tabla de frecuencia\n",
        "frecuencia"
      ],
      "metadata": {
        "id": "_Hts4HWiyV8K",
        "colab": {
          "base_uri": "https://localhost:8080/",
          "height": 237
        },
        "outputId": "476a793c-1788-45b7-a59d-e065dee4249c"
      },
      "execution_count": null,
      "outputs": [
        {
          "output_type": "execute_result",
          "data": {
            "text/plain": [
              "         Intervalos  Frecuencia_Absoluta  Frecuencia_Acumulada_Absoluta  \\\n",
              "0  (56.866, 62.517]                    1                              1   \n",
              "1  (62.517, 68.133]                    6                              7   \n",
              "2   (68.133, 73.75]                    7                             14   \n",
              "3   (73.75, 79.367]                   15                             29   \n",
              "4  (79.367, 84.983]                   12                             41   \n",
              "5    (84.983, 90.6]                    9                             50   \n",
              "\n",
              "   Frecuencia_Relativa  Frecuencia_Acumulada_Relativa  \n",
              "0                 0.02                           0.02  \n",
              "1                 0.12                           0.14  \n",
              "2                 0.14                           0.28  \n",
              "3                 0.30                           0.58  \n",
              "4                 0.24                           0.82  \n",
              "5                 0.18                           1.00  "
            ],
            "text/html": [
              "\n",
              "  <div id=\"df-35c721f9-5052-4843-9fab-b47b38570ada\">\n",
              "    <div class=\"colab-df-container\">\n",
              "      <div>\n",
              "<style scoped>\n",
              "    .dataframe tbody tr th:only-of-type {\n",
              "        vertical-align: middle;\n",
              "    }\n",
              "\n",
              "    .dataframe tbody tr th {\n",
              "        vertical-align: top;\n",
              "    }\n",
              "\n",
              "    .dataframe thead th {\n",
              "        text-align: right;\n",
              "    }\n",
              "</style>\n",
              "<table border=\"1\" class=\"dataframe\">\n",
              "  <thead>\n",
              "    <tr style=\"text-align: right;\">\n",
              "      <th></th>\n",
              "      <th>Intervalos</th>\n",
              "      <th>Frecuencia_Absoluta</th>\n",
              "      <th>Frecuencia_Acumulada_Absoluta</th>\n",
              "      <th>Frecuencia_Relativa</th>\n",
              "      <th>Frecuencia_Acumulada_Relativa</th>\n",
              "    </tr>\n",
              "  </thead>\n",
              "  <tbody>\n",
              "    <tr>\n",
              "      <th>0</th>\n",
              "      <td>(56.866, 62.517]</td>\n",
              "      <td>1</td>\n",
              "      <td>1</td>\n",
              "      <td>0.02</td>\n",
              "      <td>0.02</td>\n",
              "    </tr>\n",
              "    <tr>\n",
              "      <th>1</th>\n",
              "      <td>(62.517, 68.133]</td>\n",
              "      <td>6</td>\n",
              "      <td>7</td>\n",
              "      <td>0.12</td>\n",
              "      <td>0.14</td>\n",
              "    </tr>\n",
              "    <tr>\n",
              "      <th>2</th>\n",
              "      <td>(68.133, 73.75]</td>\n",
              "      <td>7</td>\n",
              "      <td>14</td>\n",
              "      <td>0.14</td>\n",
              "      <td>0.28</td>\n",
              "    </tr>\n",
              "    <tr>\n",
              "      <th>3</th>\n",
              "      <td>(73.75, 79.367]</td>\n",
              "      <td>15</td>\n",
              "      <td>29</td>\n",
              "      <td>0.30</td>\n",
              "      <td>0.58</td>\n",
              "    </tr>\n",
              "    <tr>\n",
              "      <th>4</th>\n",
              "      <td>(79.367, 84.983]</td>\n",
              "      <td>12</td>\n",
              "      <td>41</td>\n",
              "      <td>0.24</td>\n",
              "      <td>0.82</td>\n",
              "    </tr>\n",
              "    <tr>\n",
              "      <th>5</th>\n",
              "      <td>(84.983, 90.6]</td>\n",
              "      <td>9</td>\n",
              "      <td>50</td>\n",
              "      <td>0.18</td>\n",
              "      <td>1.00</td>\n",
              "    </tr>\n",
              "  </tbody>\n",
              "</table>\n",
              "</div>\n",
              "      <button class=\"colab-df-convert\" onclick=\"convertToInteractive('df-35c721f9-5052-4843-9fab-b47b38570ada')\"\n",
              "              title=\"Convert this dataframe to an interactive table.\"\n",
              "              style=\"display:none;\">\n",
              "        \n",
              "  <svg xmlns=\"http://www.w3.org/2000/svg\" height=\"24px\"viewBox=\"0 0 24 24\"\n",
              "       width=\"24px\">\n",
              "    <path d=\"M0 0h24v24H0V0z\" fill=\"none\"/>\n",
              "    <path d=\"M18.56 5.44l.94 2.06.94-2.06 2.06-.94-2.06-.94-.94-2.06-.94 2.06-2.06.94zm-11 1L8.5 8.5l.94-2.06 2.06-.94-2.06-.94L8.5 2.5l-.94 2.06-2.06.94zm10 10l.94 2.06.94-2.06 2.06-.94-2.06-.94-.94-2.06-.94 2.06-2.06.94z\"/><path d=\"M17.41 7.96l-1.37-1.37c-.4-.4-.92-.59-1.43-.59-.52 0-1.04.2-1.43.59L10.3 9.45l-7.72 7.72c-.78.78-.78 2.05 0 2.83L4 21.41c.39.39.9.59 1.41.59.51 0 1.02-.2 1.41-.59l7.78-7.78 2.81-2.81c.8-.78.8-2.07 0-2.86zM5.41 20L4 18.59l7.72-7.72 1.47 1.35L5.41 20z\"/>\n",
              "  </svg>\n",
              "      </button>\n",
              "      \n",
              "  <style>\n",
              "    .colab-df-container {\n",
              "      display:flex;\n",
              "      flex-wrap:wrap;\n",
              "      gap: 12px;\n",
              "    }\n",
              "\n",
              "    .colab-df-convert {\n",
              "      background-color: #E8F0FE;\n",
              "      border: none;\n",
              "      border-radius: 50%;\n",
              "      cursor: pointer;\n",
              "      display: none;\n",
              "      fill: #1967D2;\n",
              "      height: 32px;\n",
              "      padding: 0 0 0 0;\n",
              "      width: 32px;\n",
              "    }\n",
              "\n",
              "    .colab-df-convert:hover {\n",
              "      background-color: #E2EBFA;\n",
              "      box-shadow: 0px 1px 2px rgba(60, 64, 67, 0.3), 0px 1px 3px 1px rgba(60, 64, 67, 0.15);\n",
              "      fill: #174EA6;\n",
              "    }\n",
              "\n",
              "    [theme=dark] .colab-df-convert {\n",
              "      background-color: #3B4455;\n",
              "      fill: #D2E3FC;\n",
              "    }\n",
              "\n",
              "    [theme=dark] .colab-df-convert:hover {\n",
              "      background-color: #434B5C;\n",
              "      box-shadow: 0px 1px 3px 1px rgba(0, 0, 0, 0.15);\n",
              "      filter: drop-shadow(0px 1px 2px rgba(0, 0, 0, 0.3));\n",
              "      fill: #FFFFFF;\n",
              "    }\n",
              "  </style>\n",
              "\n",
              "      <script>\n",
              "        const buttonEl =\n",
              "          document.querySelector('#df-35c721f9-5052-4843-9fab-b47b38570ada button.colab-df-convert');\n",
              "        buttonEl.style.display =\n",
              "          google.colab.kernel.accessAllowed ? 'block' : 'none';\n",
              "\n",
              "        async function convertToInteractive(key) {\n",
              "          const element = document.querySelector('#df-35c721f9-5052-4843-9fab-b47b38570ada');\n",
              "          const dataTable =\n",
              "            await google.colab.kernel.invokeFunction('convertToInteractive',\n",
              "                                                     [key], {});\n",
              "          if (!dataTable) return;\n",
              "\n",
              "          const docLinkHtml = 'Like what you see? Visit the ' +\n",
              "            '<a target=\"_blank\" href=https://colab.research.google.com/notebooks/data_table.ipynb>data table notebook</a>'\n",
              "            + ' to learn more about interactive tables.';\n",
              "          element.innerHTML = '';\n",
              "          dataTable['output_type'] = 'display_data';\n",
              "          await google.colab.output.renderOutput(dataTable, element);\n",
              "          const docLink = document.createElement('div');\n",
              "          docLink.innerHTML = docLinkHtml;\n",
              "          element.appendChild(docLink);\n",
              "        }\n",
              "      </script>\n",
              "    </div>\n",
              "  </div>\n",
              "  "
            ]
          },
          "metadata": {},
          "execution_count": 2
        }
      ]
    },
    {
      "cell_type": "markdown",
      "source": [
        "## **Distribución de Datos Estadísticos (*Gráfico*)**\n",
        "Cuando se trabaja con la biblioteca Pandas en Python, puedes utilizar varios atributos para personalizar los gráficos que se crean utilizando la función **`plot()`**. Aquí hay algunos atributos comunes que puedes utilizar:\n",
        "\n",
        "*   **kind**: Especifica el tipo de gráfico que deseas crear. Algunos valores comunes incluyen \"line\" (línea), \"bar\" (barras), \"barh\" (barras horizontales), \"hist\" (histograma), \"scatter\" (dispersión), entre otros.\n",
        "\n",
        "*  **title**: Define el título del gráfico.\n",
        "\n",
        "*  **xlabel** y **ylabel**: Establece las etiquetas para el eje x e y, respectivamente.\n",
        "\n",
        "*  **color**: Especifica el color del gráfico. Puedes usar nombres de colores o códigos hexadecimales.\n",
        "\n",
        "*  **alpha**: Controla la transparencia del gráfico. Puedes utilizar valores entre 0 y 1, donde 0 es completamente transparente y 1 es completamente opaco.\n",
        "\n",
        "*  **linewidth** y **linestyle**: Define el ancho de línea y el estilo de línea para gráficos de líneas.\n",
        "\n",
        "*  **grid**: Permite mostrar u ocultar las líneas de la cuadrícula en el gráfico. Puedes establecerlo en True para mostrar la cuadrícula y False para ocultarla.\n",
        "\n",
        "+  **legend**: Controla la visualización de la leyenda en el gráfico. Puedes establecerlo en True para mostrar la leyenda y False para ocultarla."
      ],
      "metadata": {
        "id": "FciqvK1zv_Q5"
      }
    },
    {
      "cell_type": "code",
      "source": [
        "# Datos cuantitativos - Discretos - Grafica\n",
        "cant_Talla_Zapatos = datasetCD.groupby('Talla_Zapatos').agg({'Talla_Zapatos': 'count'})\n",
        "cant_Talla_Zapatos.plot(kind='bar', title='Talla de Zapatos Aprendices', ylabel='Cantidad', color='#28644B')"
      ],
      "metadata": {
        "id": "gwKGoEobtBK4",
        "colab": {
          "base_uri": "https://localhost:8080/",
          "height": 493
        },
        "outputId": "29682dca-5b03-499b-9a26-1d4eeadab1e3"
      },
      "execution_count": null,
      "outputs": [
        {
          "output_type": "execute_result",
          "data": {
            "text/plain": [
              "<Axes: title={'center': 'Talla de Zapatos Aprendices'}, xlabel='Talla_Zapatos', ylabel='Cantidad'>"
            ]
          },
          "metadata": {},
          "execution_count": 7
        },
        {
          "output_type": "display_data",
          "data": {
            "text/plain": [
              "<Figure size 640x480 with 1 Axes>"
            ],
            "image/png": "[encoded data removed]"
          },
          "metadata": {}
        }
      ]
    },
    {
      "cell_type": "code",
      "source": [
        "# Datos cuantitativos - Continuos - Tabla\n",
        "datasetCC.plot(kind='hist', title='Peso_Estudiantes', color='blue')"
      ],
      "metadata": {
        "id": "3WJpZtWnz7kZ",
        "colab": {
          "base_uri": "https://localhost:8080/",
          "height": 470
        },
        "outputId": "479e42a3-0536-4b76-eb3d-31736bfff5db"
      },
      "execution_count": null,
      "outputs": [
        {
          "output_type": "execute_result",
          "data": {
            "text/plain": [
              "<Axes: title={'center': 'Peso_Estudiantes'}, ylabel='Frequency'>"
            ]
          },
          "metadata": {},
          "execution_count": 11
        },
        {
          "output_type": "display_data",
          "data": {
            "text/plain": [
              "<Figure size 640x480 with 1 Axes>"
            ],
            "image/png": "[encoded data removed]"
          },
          "metadata": {}
        }
      ]
    },
    {
      "cell_type": "markdown",
      "source": [
        "## **2. Datos cualitativos**\n",
        "\n",
        "Los datos **cualitativos** son simplemente cualquier tipo de datos que no son numéricos, o que no representan cantidades numéricas.\n",
        "\n",
        "Algunos ejemplos de variables cualitativas son: el nombre, el género, la raza/etnia, el partido político, el estatus socioeconómico y el número de la licencia de conducción.\n",
        "\n",
        "Algunos datos cualitativos sirven simplemente para identificar la observación (como el nombre o el número de la licencia de conducción). Este tipo de datos no suele desempeñar un papel importante en la estadística. Sin embargo, otras variables cualitativas como el género, la raza, el partido político o el estatus socioeconómico sirven para subdividir el conjunto de datos en categorías.\n",
        "\n",
        "Estas variables categóricas pueden ser de dos tipos: *nominales* y *ordinales*. \n",
        "\n",
        "* **Las variables nominales** tienen valores que corresponden a los nombres de las categorías, sin ningún orden implícito. Por ejemplo el color del pelo, el género, la raza o el partido político. No hay un orden natural para \"hombre\" y \"mujer\"; las categorías son sólo nombres asociados a diferentes grupos de personas. \n",
        "\n",
        "* **Las variables ordinales** tienen algún tipo de estructura ordenada en los valores subyacentes. Por ejemplo, el estatus socioeconómico sería una variable categórica ordinal porque los niveles corresponden a rangos asociados a los ingresos, la educación y la ocupación."
      ],
      "metadata": {
        "id": "_rAtzrZv3WbB"
      }
    },
    {
      "cell_type": "code",
      "source": [
        "# Datos Cualitativos - Tabla\n",
        "\n",
        "import pandas as pd\n",
        "datasetC = pd.read_excel('Estadistica.xlsx', sheet_name = 'Cualitativos')\n",
        "\n",
        "# Calcula la frecuencia absoluta utilizando el método value_counts() de Pandas\n",
        "frecuencia = datasetC['Nivel_Escolar'].value_counts().reset_index()\n",
        "frecuencia.columns = ['Nivel_Escolar', 'Frecuencia_Absoluta']\n",
        "\n",
        "# Calcular la frecuencia absoluta acumulada\n",
        "frecuencia['Frecuencia_Acumulada_Absoluta'] = frecuencia['Frecuencia_Absoluta'].cumsum()\n",
        "\n",
        "# Calcula la frecuencia relativa (frecuencia absoluta / suma de todas las frecuencias absolutas)\n",
        "suma_absoluta = frecuencia[\"Frecuencia_Absoluta\"].sum()\n",
        "frecuencia[\"Frecuencia_Relativa\"] = frecuencia[\"Frecuencia_Absoluta\"] / suma_absoluta\n",
        "\n",
        "# Calcula la frecuencia relativa acumulada\n",
        "frecuencia['Frecuencia_Acumulada_Relativa'] = frecuencia['Frecuencia_Relativa'].cumsum()\n",
        "\n",
        "# Imprime la tabla de frecuencia\n",
        "frecuencia"
      ],
      "metadata": {
        "id": "76ra6gKq4Kpz",
        "colab": {
          "base_uri": "https://localhost:8080/",
          "height": 268
        },
        "outputId": "25d150c1-72f8-453c-eec9-01dcbd21a303"
      },
      "execution_count": null,
      "outputs": [
        {
          "output_type": "execute_result",
          "data": {
            "text/plain": [
              "  Nivel_Escolar  Frecuencia_Absoluta  Frecuencia_Acumulada_Absoluta  \\\n",
              "0   Profesional                   11                             11   \n",
              "1   Tecnologico                   11                             22   \n",
              "2     Bachiller                    8                             30   \n",
              "3       Tecnico                    8                             38   \n",
              "4     Postgrado                    5                             43   \n",
              "5       Ninguno                    5                             48   \n",
              "6      Primaria                    2                             50   \n",
              "\n",
              "   Frecuencia_Relativa  Frecuencia_Acumulada_Relativa  \n",
              "0                 0.22                           0.22  \n",
              "1                 0.22                           0.44  \n",
              "2                 0.16                           0.60  \n",
              "3                 0.16                           0.76  \n",
              "4                 0.10                           0.86  \n",
              "5                 0.10                           0.96  \n",
              "6                 0.04                           1.00  "
            ],
            "text/html": [
              "\n",
              "  <div id=\"df-0ab5079e-6c93-4985-896f-4163536743de\">\n",
              "    <div class=\"colab-df-container\">\n",
              "      <div>\n",
              "<style scoped>\n",
              "    .dataframe tbody tr th:only-of-type {\n",
              "        vertical-align: middle;\n",
              "    }\n",
              "\n",
              "    .dataframe tbody tr th {\n",
              "        vertical-align: top;\n",
              "    }\n",
              "\n",
              "    .dataframe thead th {\n",
              "        text-align: right;\n",
              "    }\n",
              "</style>\n",
              "<table border=\"1\" class=\"dataframe\">\n",
              "  <thead>\n",
              "    <tr style=\"text-align: right;\">\n",
              "      <th></th>\n",
              "      <th>Nivel_Escolar</th>\n",
              "      <th>Frecuencia_Absoluta</th>\n",
              "      <th>Frecuencia_Acumulada_Absoluta</th>\n",
              "      <th>Frecuencia_Relativa</th>\n",
              "      <th>Frecuencia_Acumulada_Relativa</th>\n",
              "    </tr>\n",
              "  </thead>\n",
              "  <tbody>\n",
              "    <tr>\n",
              "      <th>0</th>\n",
              "      <td>Profesional</td>\n",
              "      <td>11</td>\n",
              "      <td>11</td>\n",
              "      <td>0.22</td>\n",
              "      <td>0.22</td>\n",
              "    </tr>\n",
              "    <tr>\n",
              "      <th>1</th>\n",
              "      <td>Tecnologico</td>\n",
              "      <td>11</td>\n",
              "      <td>22</td>\n",
              "      <td>0.22</td>\n",
              "      <td>0.44</td>\n",
              "    </tr>\n",
              "    <tr>\n",
              "      <th>2</th>\n",
              "      <td>Bachiller</td>\n",
              "      <td>8</td>\n",
              "      <td>30</td>\n",
              "      <td>0.16</td>\n",
              "      <td>0.60</td>\n",
              "    </tr>\n",
              "    <tr>\n",
              "      <th>3</th>\n",
              "      <td>Tecnico</td>\n",
              "      <td>8</td>\n",
              "      <td>38</td>\n",
              "      <td>0.16</td>\n",
              "      <td>0.76</td>\n",
              "    </tr>\n",
              "    <tr>\n",
              "      <th>4</th>\n",
              "      <td>Postgrado</td>\n",
              "      <td>5</td>\n",
              "      <td>43</td>\n",
              "      <td>0.10</td>\n",
              "      <td>0.86</td>\n",
              "    </tr>\n",
              "    <tr>\n",
              "      <th>5</th>\n",
              "      <td>Ninguno</td>\n",
              "      <td>5</td>\n",
              "      <td>48</td>\n",
              "      <td>0.10</td>\n",
              "      <td>0.96</td>\n",
              "    </tr>\n",
              "    <tr>\n",
              "      <th>6</th>\n",
              "      <td>Primaria</td>\n",
              "      <td>2</td>\n",
              "      <td>50</td>\n",
              "      <td>0.04</td>\n",
              "      <td>1.00</td>\n",
              "    </tr>\n",
              "  </tbody>\n",
              "</table>\n",
              "</div>\n",
              "      <button class=\"colab-df-convert\" onclick=\"convertToInteractive('df-0ab5079e-6c93-4985-896f-4163536743de')\"\n",
              "              title=\"Convert this dataframe to an interactive table.\"\n",
              "              style=\"display:none;\">\n",
              "        \n",
              "  <svg xmlns=\"http://www.w3.org/2000/svg\" height=\"24px\"viewBox=\"0 0 24 24\"\n",
              "       width=\"24px\">\n",
              "    <path d=\"M0 0h24v24H0V0z\" fill=\"none\"/>\n",
              "    <path d=\"M18.56 5.44l.94 2.06.94-2.06 2.06-.94-2.06-.94-.94-2.06-.94 2.06-2.06.94zm-11 1L8.5 8.5l.94-2.06 2.06-.94-2.06-.94L8.5 2.5l-.94 2.06-2.06.94zm10 10l.94 2.06.94-2.06 2.06-.94-2.06-.94-.94-2.06-.94 2.06-2.06.94z\"/><path d=\"M17.41 7.96l-1.37-1.37c-.4-.4-.92-.59-1.43-.59-.52 0-1.04.2-1.43.59L10.3 9.45l-7.72 7.72c-.78.78-.78 2.05 0 2.83L4 21.41c.39.39.9.59 1.41.59.51 0 1.02-.2 1.41-.59l7.78-7.78 2.81-2.81c.8-.78.8-2.07 0-2.86zM5.41 20L4 18.59l7.72-7.72 1.47 1.35L5.41 20z\"/>\n",
              "  </svg>\n",
              "      </button>\n",
              "      \n",
              "  <style>\n",
              "    .colab-df-container {\n",
              "      display:flex;\n",
              "      flex-wrap:wrap;\n",
              "      gap: 12px;\n",
              "    }\n",
              "\n",
              "    .colab-df-convert {\n",
              "      background-color: #E8F0FE;\n",
              "      border: none;\n",
              "      border-radius: 50%;\n",
              "      cursor: pointer;\n",
              "      display: none;\n",
              "      fill: #1967D2;\n",
              "      height: 32px;\n",
              "      padding: 0 0 0 0;\n",
              "      width: 32px;\n",
              "    }\n",
              "\n",
              "    .colab-df-convert:hover {\n",
              "      background-color: #E2EBFA;\n",
              "      box-shadow: 0px 1px 2px rgba(60, 64, 67, 0.3), 0px 1px 3px 1px rgba(60, 64, 67, 0.15);\n",
              "      fill: #174EA6;\n",
              "    }\n",
              "\n",
              "    [theme=dark] .colab-df-convert {\n",
              "      background-color: #3B4455;\n",
              "      fill: #D2E3FC;\n",
              "    }\n",
              "\n",
              "    [theme=dark] .colab-df-convert:hover {\n",
              "      background-color: #434B5C;\n",
              "      box-shadow: 0px 1px 3px 1px rgba(0, 0, 0, 0.15);\n",
              "      filter: drop-shadow(0px 1px 2px rgba(0, 0, 0, 0.3));\n",
              "      fill: #FFFFFF;\n",
              "    }\n",
              "  </style>\n",
              "\n",
              "      <script>\n",
              "        const buttonEl =\n",
              "          document.querySelector('#df-0ab5079e-6c93-4985-896f-4163536743de button.colab-df-convert');\n",
              "        buttonEl.style.display =\n",
              "          google.colab.kernel.accessAllowed ? 'block' : 'none';\n",
              "\n",
              "        async function convertToInteractive(key) {\n",
              "          const element = document.querySelector('#df-0ab5079e-6c93-4985-896f-4163536743de');\n",
              "          const dataTable =\n",
              "            await google.colab.kernel.invokeFunction('convertToInteractive',\n",
              "                                                     [key], {});\n",
              "          if (!dataTable) return;\n",
              "\n",
              "          const docLinkHtml = 'Like what you see? Visit the ' +\n",
              "            '<a target=\"_blank\" href=https://colab.research.google.com/notebooks/data_table.ipynb>data table notebook</a>'\n",
              "            + ' to learn more about interactive tables.';\n",
              "          element.innerHTML = '';\n",
              "          dataTable['output_type'] = 'display_data';\n",
              "          await google.colab.output.renderOutput(dataTable, element);\n",
              "          const docLink = document.createElement('div');\n",
              "          docLink.innerHTML = docLinkHtml;\n",
              "          element.appendChild(docLink);\n",
              "        }\n",
              "      </script>\n",
              "    </div>\n",
              "  </div>\n",
              "  "
            ]
          },
          "metadata": {},
          "execution_count": 16
        }
      ]
    },
    {
      "cell_type": "code",
      "source": [
        "# Datos Cualitativos - Tabla\n",
        "nivel_Escolar = datasetC.groupby('Nivel_Escolar').agg({'Nivel_Escolar': 'count'})\n",
        "nivel_Escolar.plot(kind='bar', title='Nivel_Escolar', ylabel='Cantidad', color='brown')"
      ],
      "metadata": {
        "id": "k3UROxGd6IQV",
        "colab": {
          "base_uri": "https://localhost:8080/",
          "height": 557
        },
        "outputId": "acd440e1-ae02-4fba-b7fb-f4b8b0173d9b"
      },
      "execution_count": null,
      "outputs": [
        {
          "output_type": "execute_result",
          "data": {
            "text/plain": [
              "<Axes: title={'center': 'Nivel_Escolar'}, xlabel='Nivel_Escolar', ylabel='Cantidad'>"
            ]
          },
          "metadata": {},
          "execution_count": 17
        },
        {
          "output_type": "display_data",
          "data": {
            "text/plain": [
              "<Figure size 640x480 with 1 Axes>"
            ],
            "image/png": "[encoded data removed]"
          },
          "metadata": {}
        }
      ]
    },
    {
      "cell_type": "markdown",
      "source": [
        "## **3. Características de las distribuciones de datos** - Medidas\n",
        "\n",
        "Un conjunto de datos puede contener muchas variables y observaciones. Sin embargo, no siempre estamos interesados en cada uno de los valores medidos, sino en un resumen de los datos. Las funciones estadísticas cumplen el propósito de resumir los datos de una manera significativa de forma significativa y concisa.\n",
        "\n",
        "Los conceptos estadísticos más importantes para resumir los datos son las medidas de **tendencia central** y de **variabilidad**.\n",
        "\n",
        "<br>\n",
        "\n",
        "### **3.1. Medidas de tendencia central**\n",
        "\n",
        "Las medidas de tendencia central son estadísticas descriptivas utilizadas para resumir o representar un conjunto de datos de manera concisa y comprensible. Estas medidas proporcionan información sobre el valor central o típico de un conjunto de datos y son útiles para comprender la distribución de los datos. Las tres medidas de tendencia central más comunes son la media, la mediana y la moda:\n",
        "\n",
        "<p><img alt=\"Colaboratory logo\" height=\"450px\" width=\"850px\" src=\"https://www.geogebra.org/resource/cFGrZcCY/nIrf7FUAE4jChAzp/material-cFGrZcCY.png\" align=\"left\" hspace=\"10px\" vspace=\"0px\"></p>"
      ],
      "metadata": {
        "id": "iUkI7ajp67tS"
      }
    },
    {
      "cell_type": "markdown",
      "source": [
        "### **Media aritmética**\n",
        "La media es la medida de tendencia central más comúnmente utilizada. Se calcula sumando todos los valores en un conjunto de datos y dividiendo la suma por el número de valores. La media es sensible a los valores extremos y puede ser influenciada por valores atípicos.\n",
        "\n",
        "$$\n",
        "\\bar{x} = \\frac{1}{n} \\sum_{i=1}^{n} x_i\n",
        "$$\n",
        "\n",
        "En el lenguaje informal, a menudo se habla simplemente de \"la media\"  cuando se utiliza esta fórmula. Podemos obtener la media con numpy utilizando la función de agregación **`np.mean`**."
      ],
      "metadata": {
        "id": "TG_wAhtK-IMM"
      }
    },
    {
      "cell_type": "code",
      "source": [
        "# Datos Cuantitativos - Discretos\n",
        "media_aritmetica1 = datasetCD['Talla_Zapatos'].mean()\n",
        "print(media_aritmetica1)\n",
        "\n",
        "# Datos Cuantitativos - Continuos\n",
        "media_aritmetica2 = datasetCC['Peso_Estudiantes'].mean()\n",
        "print(media_aritmetica2)"
      ],
      "metadata": {
        "id": "ZkoE-JBW_Ki-",
        "colab": {
          "base_uri": "https://localhost:8080/"
        },
        "outputId": "51afb155-665a-44d4-ddbf-1fc18693fea7"
      },
      "execution_count": null,
      "outputs": [
        {
          "output_type": "stream",
          "name": "stdout",
          "text": [
            "38.04\n",
            "77.622\n"
          ]
        }
      ]
    },
    {
      "cell_type": "markdown",
      "source": [
        "### **Mediana**\n",
        "\n",
        "La mediana de la muestra $\\tilde{x}$ es otra medida de tendencia central muy popular. La mediana es el valor que divide las observaciones en dos partes iguales, de manera que al menos el 50% de los valores son mayores o iguales a la mediana y al menos el 50% de los valores sean menores o iguales a la mediana.\n",
        "\n",
        "Para calcular su valor, primero hay que ordenar los datos en una secuencia creciente de números. Si el número de observaciones $n$ es impar, entonces $\\tilde{x}$ es el valor de la observación intermedia, que se encuentra en la posición $(n + 1)/2$; en caso contrario, hay dos observaciones intermedias y $\\tilde{x}$ será la media aritmética de esos valores intermedios.\n",
        "\n",
        "$$\n",
        "\\tilde{x} = \\begin{cases}x_{[(n+1) / 2]} & \\text { si } n \\text { es impar } \\\\ \\frac{1}{2}\\left[x_{(n / 2)}+x_{(n / 2+1)}\\right] & \\text { si } n \\text { es par }\\end{cases}\n",
        "$$\n",
        "\n",
        "Podemos calcular la media con la función **`np.median`** de numpy. "
      ],
      "metadata": {
        "id": "KDrOBhnSBIk-"
      }
    },
    {
      "cell_type": "code",
      "source": [
        "# Datos Cuantitativos - Discretos\n",
        "mediana1 = datasetCD['Talla_Zapatos'].median()\n",
        "print(mediana1)\n",
        "\n",
        "# Datos Cuantitativos - Continuos\n",
        "mediana2 = datasetCC['Peso_Estudiantes'].median()\n",
        "print(mediana2)"
      ],
      "metadata": {
        "id": "GjZpeah5B0WX",
        "colab": {
          "base_uri": "https://localhost:8080/"
        },
        "outputId": "605e6f80-3372-49b9-bae1-a044cebede1c"
      },
      "execution_count": null,
      "outputs": [
        {
          "output_type": "stream",
          "name": "stdout",
          "text": [
            "38.0\n",
            "77.5\n"
          ]
        }
      ]
    },
    {
      "cell_type": "markdown",
      "source": [
        "### **Moda**\n",
        "\n",
        "La moda es el valor que aparece con mayor frecuencia en un conjunto de datos. Un conjunto de datos puede tener una moda (unimodal) o múltiples modas (bimodal, trimodal, etc.). La moda es útil para identificar los valores más comunes en un conjunto de datos, especialmente en distribuciones con picos o agrupaciones.\n",
        "\n",
        "$$\n",
        "Moda = Lo + w \\left( \\frac{d1}{d1+d2} \\right)\n",
        "$$"
      ],
      "metadata": {
        "id": "HFLB35rqCWq0"
      }
    },
    {
      "cell_type": "code",
      "source": [
        "# Datos Cuantitativos - Discretos\n",
        "from scipy import stats\n",
        "\n",
        "moda1 = stats.mode(datasetCD['Talla_Zapatos'], axis=None, keepdims=True)\n",
        "modas1 = moda1.mode\n",
        "frecuencias1 = moda1.count\n",
        "for i in range(len(modas1)):\n",
        "  print(\"Moda:\", modas1[i])\n",
        "  print(\"Frecuencia:\", frecuencias1[i])\n",
        "\n",
        "print()\n",
        "\n",
        "# Datos Cuantitativos - Continuos (Valido para mas de una moda)\n",
        "moda2 = stats.mode(datasetCC['Peso_Estudiantes'], axis=None, keepdims=True)\n",
        "modas2 = moda2.mode\n",
        "frecuencias2 = moda2.count\n",
        "for j in range(len(modas2)):\n",
        "    print(\"Moda:\", modas2[j])\n",
        "    print(\"Frecuencia:\", frecuencias2[j])"
      ],
      "metadata": {
        "id": "UUqAAJ3WEiXy",
        "colab": {
          "base_uri": "https://localhost:8080/"
        },
        "outputId": "0f712734-e838-4dfa-db20-cc66e84bf361"
      },
      "execution_count": null,
      "outputs": [
        {
          "output_type": "stream",
          "name": "stdout",
          "text": [
            "Moda: 38\n",
            "Frecuencia: 8\n",
            "\n",
            "Moda: 80.3\n",
            "Frecuencia: 3\n"
          ]
        }
      ]
    },
    {
      "cell_type": "markdown",
      "source": [
        "La biblioteca **statistics** de Python proporciona varias funciones para calcular medidas de tendencia central. Aquí tienes algunas de las funciones más utilizadas:\n",
        "\n",
        "* **mean**(data): Calcula la media aritmética de los datos en una lista o secuencia.\n",
        "\n",
        "* **median**(data): Calcula la mediana de los datos en una lista o secuencia.\n",
        "\n",
        "* **mode**(data): Calcula la moda de los datos en una lista o secuencia.\n",
        "\n",
        "* **harmonic_mean**(data): Calcula la media armónica de los datos en una lista o secuencia.\n",
        "\n",
        "* **geometric_mean**(data): Calcula la media geométrica de los datos en una lista o secuencia.\n",
        "\n",
        "* **median_low**(data): Calcula la mediana baja de los datos en una lista o secuencia.\n",
        "\n",
        "* **median_high**(data): Calcula la mediana alta de los datos en una lista o secuencia."
      ],
      "metadata": {
        "id": "aJL1Fm0_byay"
      }
    },
    {
      "cell_type": "code",
      "source": [
        "## Cuantitativos_Discretos\n",
        "\n",
        "# Gestion de la libreraia matematica\n",
        "import statistics as st\n",
        "\n",
        "# Media\n",
        "media = st.mean(datasetCD['Talla_Zapatos'])\n",
        "print(\"Media:\", media)\n",
        "\n",
        "# Mediana\n",
        "mediana = st.median(datasetCD['Talla_Zapatos'])\n",
        "print(\"Mediana:\", mediana)\n",
        "\n",
        "# Moda\n",
        "moda = st.mode(datasetCD['Talla_Zapatos'])\n",
        "print(\"Moda:\", moda)"
      ],
      "metadata": {
        "id": "2acVRWnhcXyq",
        "colab": {
          "base_uri": "https://localhost:8080/"
        },
        "outputId": "ffe6a316-64fe-4926-f429-571f4f183dc9"
      },
      "execution_count": null,
      "outputs": [
        {
          "output_type": "stream",
          "name": "stdout",
          "text": [
            "Media: 38.04\n",
            "Mediana: 38.0\n",
            "Moda: 38\n"
          ]
        }
      ]
    },
    {
      "cell_type": "code",
      "source": [
        "## Cuantitativos_Continuos\n",
        "\n",
        "# Gestion de la libreraia matematica\n",
        "import statistics as st\n",
        "\n",
        "# Media\n",
        "media = st.mean(datasetCC['Peso_Estudiantes'])\n",
        "print(\"Media:\", media)\n",
        "\n",
        "# Mediana\n",
        "mediana = st.median(datasetCC['Peso_Estudiantes'])\n",
        "print(\"Mediana:\", mediana)\n",
        "\n",
        "# Moda\n",
        "moda = st.mode(datasetCC['Peso_Estudiantes'])\n",
        "print(\"Moda:\", moda)"
      ],
      "metadata": {
        "id": "4DEUl-DedhJt",
        "colab": {
          "base_uri": "https://localhost:8080/"
        },
        "outputId": "6708fb3c-c780-402a-804b-1481ca8a48b1"
      },
      "execution_count": null,
      "outputs": [
        {
          "output_type": "stream",
          "name": "stdout",
          "text": [
            "Media: 77.622\n",
            "Mediana: 77.5\n",
            "Moda: 80.3\n"
          ]
        }
      ]
    },
    {
      "cell_type": "markdown",
      "source": [
        "### **3.2. Medidas de dispersión**\n",
        "\n",
        "En estadística, las medidas de dispersión (también llamadas variabilidad, dispersión o propagación) es el grado en que una distribución se estira o se comprime.​ Ejemplos comunes de medidas de dispersión estadística son la varianza, la desviación estándar y el rango intercuartil.\n",
        "\n",
        "Las medidas de dispersión se contrastan con la ubicación o la tendencia central, y juntas son las propiedades más utilizadas de las distribuciones.\n",
        "\n",
        "* La **varianza** es una medida de dispersión que representa la variabilidad de una serie de datos respecto a su media. Formalmente se calcula como la suma de los residuos al cuadrado divididos entre el total de observaciones. Su fórmula es la siguiente:\n",
        "\n",
        "$$\n",
        "\\delta^2 = \\frac {\\sum_{i=1}^{n} (x_i - \\bar{x})^2}{N}{}  \n",
        "$$\n",
        "\n",
        "Donde:\n",
        "* X → Variable sobre la que se pretenden calcular la varianza\n",
        "* xi → Observación número i de la variable X. i puede tomará valores entre 1 y n.\n",
        "* N → Número de observaciones.\n",
        "* x̄ → Es la media de la variable X.\n"
      ],
      "metadata": {
        "id": "rT2KnvQhJpqR"
      }
    },
    {
      "cell_type": "code",
      "source": [
        "## Cuantitativos_Discretos\n",
        "import pandas as pd\n",
        "varianza = datasetCD['Talla_Zapatos'].var()\n",
        "print(\"Media:\", media_aritmetica1)\n",
        "print(\"Varianza:\", varianza, \"\\n\")\n",
        "\n",
        "## Cuantitativos_Continuos\n",
        "varianza1 = datasetCC['Peso_Estudiantes'].var()\n",
        "print(\"Media\", media_aritmetica2)\n",
        "print(\"Viaranza:\", varianza1)"
      ],
      "metadata": {
        "colab": {
          "base_uri": "https://localhost:8080/"
        },
        "id": "BOzsVbrn_Zf7",
        "outputId": "cce9335d-e41f-4efe-ac38-b1d70fbd3a42"
      },
      "execution_count": null,
      "outputs": [
        {
          "output_type": "stream",
          "name": "stdout",
          "text": [
            "Media: 38.04\n",
            "Varianza: 9.957551020408163 \n",
            "\n",
            "Media 77.622\n",
            "Viaranza: 58.9242\n"
          ]
        }
      ]
    },
    {
      "cell_type": "markdown",
      "source": [
        "* La **desviación estandar** es otra medida que ofrece información de la dispersión respecto a la media. Su cálculo es exactamente el mismo que la varianza, pero realizando la raíz cuadrada de su resultado. Es decir, la desviación típica es la raíz cuadrada de la varianza.\n",
        "\n",
        "$$\n",
        "\\delta = \\sqrt{\\delta^2}\n",
        "$$ "
      ],
      "metadata": {
        "id": "diOkXEzhmrb0"
      }
    },
    {
      "cell_type": "code",
      "source": [
        "## Cuantitativos_Discretos\n",
        "import pandas as pd\n",
        "desvstd = datasetCD['Talla_Zapatos'].std()\n",
        "print(\"Media:\", media_aritmetica1)\n",
        "print(\"Desviación estándar:\", desvstd, \"\\n\")\n",
        "\n",
        "## Cuantitativos_Continuos\n",
        "desvstd1 = datasetCC['Peso_Estudiantes'].std()\n",
        "print(\"Media\", media_aritmetica2)\n",
        "print(\"Desviación estándar:\", desvstd1)"
      ],
      "metadata": {
        "colab": {
          "base_uri": "https://localhost:8080/"
        },
        "id": "7ZAF-4I9-Zo4",
        "outputId": "bdc9dd58-2ddb-4054-8219-7f616aa0b3ae"
      },
      "execution_count": null,
      "outputs": [
        {
          "output_type": "stream",
          "name": "stdout",
          "text": [
            "Media: 38.04\n",
            "Desviación estándar: 3.1555587493197086 \n",
            "\n",
            "Media 77.622\n",
            "Desviación estándar: 7.676210002338394\n"
          ]
        }
      ]
    },
    {
      "cell_type": "markdown",
      "source": [
        "### **3.3. Quartiles y percentiles**\n",
        "\n",
        "## **Cuartiles y percentiles**\n",
        "\n",
        "Al igual que la media de la muestra es sensible a valores extremos, la medida asociada de dispersión es igualmente sensible a valores extremos. Además, el problema se agrava por el hecho de que las distancias se elevan al cuadrado, lo que hace las diferencias muy extremas.\n",
        "\n",
        "Los cuantiles se pueden utilizar para construir una medida de dispersión que sea \"resistente\" a valores extremos. Los cuantiles son una generalización de la idea de la mediana. La mediana es el valor que divide los datos en dos partes iguales. Del mismo modo, un cuantil divide los datos en otras proporciones. \n",
        "\n",
        "Por ejemplo, un cuantil del 0.25 divide los datos en dos partes, de manera que al menos el 25% de los valores son menores o iguales al cuantil y al menos el 75% de los valores son mayores o iguales al cuantil.\n",
        "\n",
        "En general, ordenamos la muestra $x_1, x_2, ..., x_n$, y luego encontramos el cuantil $p$-ésimo $x_p$, de manera que divida los datos en dos partes, donde\n",
        "\n",
        "* una fracción $p$ de los valores de los datos es menor o igual a $x_p$, y\n",
        "* la fracción restante $(1 - p)$ es mayor que $x_p$\n",
        "\n",
        "El percentil es esencialmente lo mismo que un cuartil, solo que los cuantiles están indexados por fracciones (cuantil del 0.8 o percentil 80).\n",
        "\n",
        "Por ejemplo, un resumen de los datos en 5 números puede encontrarse con los valores $\\text{min}$, $Q_1$, $Q_2$, $Q_3$, y $\\text{max}$, donde $Q_1$ es el percentil 25, $Q_2$ es el percentil 50 y $Q_3$ es el percentil 75."
      ],
      "metadata": {
        "id": "5i4F-WVIosNo"
      }
    },
    {
      "cell_type": "code",
      "source": [
        "import numpy as np\n",
        "\n",
        "## Cuantitativos_Discretos\n",
        "qCD1 = np.quantile(datasetCD['Talla_Zapatos'], q=0.25)\n",
        "qCD2 = np.quantile(datasetCD['Talla_Zapatos'], q=0.50)\n",
        "qCD3 = np.quantile(datasetCD['Talla_Zapatos'], q=0.75)\n",
        "qCD4 = np.quantile(datasetCD['Talla_Zapatos'], q=1)\n",
        "print(f\"Q1={qCD1}, Q2={qCD2}, Q3={qCD3}, Q4={qCD4}\")\n",
        "\n",
        "print()\n",
        "\n",
        "## Cuantitativos_Continuos\n",
        "qCC1 = np.quantile(datasetCC['Peso_Estudiantes'], q=0.25)\n",
        "qCC3 = np.quantile(datasetCC['Peso_Estudiantes'], q=0.75)\n",
        "print(f\"Q1={qCC1}, Q2={qCC3}\")"
      ],
      "metadata": {
        "colab": {
          "base_uri": "https://localhost:8080/"
        },
        "id": "UIT4MIroLjjv",
        "outputId": "ec5d839e-2f7b-4408-b992-ee4bf5490741"
      },
      "execution_count": null,
      "outputs": [
        {
          "output_type": "stream",
          "name": "stdout",
          "text": [
            "Q1=36.0, Q2=38.0, Q3=40.0, Q4=44\n",
            "\n",
            "Q1=72.375, Q2=83.0\n"
          ]
        }
      ]
    },
    {
      "cell_type": "markdown",
      "source": [
        "**Rango intercuartil:** Una medida común de la variabilidad es el rango intercuartil (o IQR), que se define como la diferencia entre los percentiles 25 y 75, también llamados primer y tercer cuartil\n",
        "\n",
        "$$\n",
        "\\text{IQR} = Q_3 - Q_1\n",
        "$$\n",
        "\n",
        "Este cubre el centro de la distribución y contiene el 50% de las observaciones.\n",
        "\n",
        "* Lo bueno: es estable, resistente a los valores atípicos, robusto a la no normalidad, fácil de explicar.\n",
        "* Lo malo: no es tan manejable, hay que ordenar los datos, sólo implica el 50% de los datos."
      ],
      "metadata": {
        "id": "8NG2WZCEMoi9"
      }
    },
    {
      "cell_type": "code",
      "source": [
        "#Calculamos el rango intercuantil\n",
        "\n",
        "## Cuantitativos_Discretos\n",
        "IQR1 = qCD3 - qCD1\n",
        "print(f\"Q1={qCD1}, Q3={qCD3} y IQR={IQR1}\")\n",
        "\n",
        "print()\n",
        "\n",
        "## Cuantitativos_Continuos\n",
        "IQR2 = qCC3 - qCC1\n",
        "print(f\"Q1={qCC1}, Q3={qCC3}, IQR={IQR2}\")"
      ],
      "metadata": {
        "colab": {
          "base_uri": "https://localhost:8080/"
        },
        "id": "ByzHu_TYMxUc",
        "outputId": "55dad5c4-12aa-4806-c278-1d751f13014e"
      },
      "execution_count": null,
      "outputs": [
        {
          "output_type": "stream",
          "name": "stdout",
          "text": [
            "Q1=36.0, Q3=40.0 y IQR=4.0\n",
            "\n",
            "Q1=72.375, Q3=83.0, IQR=10.625\n"
          ]
        }
      ]
    },
    {
      "cell_type": "markdown",
      "source": [
        "El gráfico de caja en su conjunto nos informa de la distribución de los datos y del rango y la variabilidad de las observaciones:\n",
        "\n",
        "* Queda claro inmediatamente que la caja indica la simetría de los datos: si la mediana está en el centro de la caja, los datos deben ser simétricos, de lo contrario están sesgados. \n",
        "\n",
        "\n",
        "<img alt=\"Colaboratory logo\" height=\"350px\" src=\"https://i.imgur.com/gCitZIl.jpg\" align=\"left\" hspace=\"10px\" vspace=\"0px\"></br>"
      ],
      "metadata": {
        "id": "0W6pjm5uLgJp"
      }
    }
  ],
  "metadata": {
    "kernelspec": {
      "display_name": "Python 3",
      "language": "python",
      "name": "python3"
    },
    "language_info": {
      "codemirror_mode": {
        "name": "ipython",
        "version": 3
      },
      "file_extension": ".py",
      "mimetype": "text/x-python",
      "name": "python",
      "nbconvert_exporter": "python",
      "pygments_lexer": "ipython3",
      "version": "3.11.3"
    },
    "orig_nbformat": 4,
    "colab": {
      "provenance": []
    }
  },
  "nbformat": 4,
  "nbformat_minor": 0
}