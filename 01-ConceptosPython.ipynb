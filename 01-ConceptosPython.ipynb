{
  "nbformat": 4,
  "nbformat_minor": 0,
  "metadata": {
    "colab": {
      "provenance": []
    },
    "kernelspec": {
      "name": "python3",
      "display_name": "Python 3"
    },
    "language_info": {
      "name": "python"
    }
  },
  "cells": [
    {
      "cell_type": "markdown",
      "source": [
        "# **Ciencia de Datos**\n",
        "---\n",
        "**Conceptos de Python**\n",
        "* Python es un lenguaje de programación de alto nivel, interpretado y de propósito general.\n",
        "* Python se caracteriza por ser fácil de leer y escribir, lo que lo hace ideal para principiantes en la programación, pero también es utilizado por expertos en una amplia gama de aplicaciones, desde la ciencia de datos y la inteligencia artificial hasta el desarrollo web y la automatización de tareas.\n",
        "* Es un lenguaje multiplataforma, lo que significa que puede ser ejecutado en sistemas operativos como Windows, Linux y MacOS\n",
        "* Python es un lenguaje interpretado, lo que significa que no es necesario compilar el código antes de ejecutarlo, lo que agiliza el proceso de desarrollo y lo hace ideal para prototipos rápidos."
      ],
      "metadata": {
        "id": "c6HmHXreWqOv"
      }
    },
    {
      "cell_type": "markdown",
      "source": [
        "**Variables**\n",
        "\n",
        "En Python, una variable es un nombre que se utiliza para referirse a un valor almacenado en la memoria de la computadora. Las variables en Python se pueden definir y utilizar de la siguiente manera:\n",
        "* Para definir una variable, se utiliza el signo igual (=) y se asigna un valor a un nombre específico.\n",
        "* En Python, las variables pueden contener diferentes tipos de datos, como números enteros, números de punto flotante, cadenas de texto y booleanos (True o False). El tipo de datos se infiere automáticamente en función del valor asignado a la variable.\n",
        "* Las variables pueden cambiar de valor durante la ejecución del programa. "
      ],
      "metadata": {
        "id": "zO1eUjHcZxbp"
      }
    },
    {
      "cell_type": "code",
      "execution_count": null,
      "metadata": {
        "id": "aF-8UubqWXiq"
      },
      "outputs": [],
      "source": [
        "# Definición de variables y tipos de datos\n",
        "nombre = \"Juan\"\n",
        "edad = 25\n",
        "estado = True\n",
        "\n",
        "# Cambios de valor\n",
        "edad = 30\n",
        "y = 10\n",
        "x = y\n",
        "\n",
        "# Conversión de valores\n",
        "x = str(3)\n",
        "y = int(3)\n",
        "z = float(3)\n",
        "\n",
        "# Asignación de valores\n",
        "uno, dos, tres = \"Lunes\", \"Martes\", \"Miercoles\"\n",
        "j = k = h = \"Verde\""
      ]
    },
    {
      "cell_type": "markdown",
      "source": [
        "# **Entradas y Salidas de usuario**\n",
        "\n",
        "En Python, el término \"entrada\" (input) se refiere a cualquier información que el usuario proporciona al programa, mientras que la \"salida\" (output) se refiere a cualquier información que el programa muestra al usuario. Python ofrece varias formas de leer la entrada y mostrar la salida.\n",
        "\n",
        "**Entrada de usuario (input)**: \n",
        "La forma más común de obtener la entrada de usuario en Python es mediante la función input(). Esta función lee una línea de texto que el usuario escribe en la consola y devuelve esa línea de texto como una cadena de caracteres."
      ],
      "metadata": {
        "id": "FhWpXbIafQfO"
      }
    },
    {
      "cell_type": "code",
      "source": [
        "nombre = input(\"Por favor ingrese su nombre: \")\n",
        "edad = input(\"Por favor ingrese su edad: \")\n",
        "peso = float(input(\"Por favor ingrese su peso: \"))"
      ],
      "metadata": {
        "id": "c1e4oDnnfXD_"
      },
      "execution_count": null,
      "outputs": []
    },
    {
      "cell_type": "markdown",
      "source": [
        "**Salida de texto (output)**: \n",
        "La forma más simple de mostrar texto en Python es mediante la función print(). Esta función toma uno o más argumentos y los muestra en la consola separados por espacios. "
      ],
      "metadata": {
        "id": "ObVG8EsOg2wD"
      }
    },
    {
      "cell_type": "code",
      "source": [
        "print(\"Hola, mundo!\")\n",
        "print(\"Hola, \" + nombre + \"!\")\n",
        "print(\"Hola, \", nombre ,\"! y tienes, \", edad, \"años y pesas \", peso , \"kg\")\n",
        "print(\"Hola, me llamo {} y tengo {} años.\".format(nombre, edad))\n",
        "print(f\"Hola, me llamo {nombre} y tengo {edad} años.\")"
      ],
      "metadata": {
        "id": "OcJohnDHgrHF"
      },
      "execution_count": null,
      "outputs": []
    },
    {
      "cell_type": "markdown",
      "source": [
        "# **Operadores**\n",
        "En Python, los operadores son símbolos que se utilizan para realizar operaciones sobre valores y variables. Python cuenta con una amplia variedad de operadores, que se pueden clasificar en diferentes categorías:\n",
        "\n",
        "**Operadores aritméticos**: \n",
        "Los operadores aritméticos se utilizan para realizar operaciones matemáticas básicas, tales como sumar, restar, multiplicar, dividir y calcular el resto de una división. Los operadores aritméticos en Python son los siguientes: **+** (suma), **-** (resta), * (multiplicación), **/** (división), **%** (resto de la división), ** (potencia), **//** (división entera)."
      ],
      "metadata": {
        "id": "y5RR_FGGjcup"
      }
    },
    {
      "cell_type": "markdown",
      "source": [
        "# **Estructura secuencial**\n",
        "\n",
        "La estructura secuencial en Python se refiere a la ejecución de instrucciones en un orden específico, de manera que una instrucción se ejecuta después de la otra en secuencia.\n",
        "\n",
        "La estructura secuencial es la forma más básica de programación y se utiliza para resolver problemas sencillos que no requieren ramificación ni iteración. Las instrucciones en la estructura secuencial se ejecutan en el orden en que aparecen en el programa, de arriba hacia abajo."
      ],
      "metadata": {
        "id": "c70V5GNUnJtH"
      }
    },
    {
      "cell_type": "code",
      "source": [
        "# Determinar el area y perimetro de un circulo\n",
        "# Area = Pi * Radio2 y Perimetro = 2 * Pi * r\n",
        "\n",
        "# definicion de Variables\n",
        "pi = 3.141516\n",
        "\n",
        "# Entrada\n",
        "radio = float(input(\"Por favor ingrese radio: \"))\n",
        "\n",
        "# Proceso\n",
        "area = pi * (radio**2)\n",
        "perimetro = 2 * pi * radio\n",
        "\n",
        "# Salida\n",
        "print(f\"Area es: {round(area,2)} y el perimetro es: {round(perimetro,2)} del Circulo.\")"
      ],
      "metadata": {
        "id": "BO0GYMYCj2zV"
      },
      "execution_count": null,
      "outputs": []
    },
    {
      "cell_type": "markdown",
      "source": [
        "**Operadores de comparación**\n",
        "\n",
        "Los operadores de comparación se utilizan para comparar dos valores y devolver un valor booleano (True o False) que indica si la comparación es verdadera o falsa. Los operadores de comparación en Python son los siguientes:\n",
        "**==** (igual a), **!=** (diferente de), **<** (menor que), **>** (mayor que), **<=** (menor o igual que), **>=** (mayor o igual que).\n",
        "\n",
        "\n",
        "**Operadores lógicos**\n",
        "\n",
        "Los operadores lógicos se utilizan para combinar valores booleanos y devolver otro valor booleano. Los operadores lógicos en Python son los siguientes: **and** (y), **or** (o), **not** (no)."
      ],
      "metadata": {
        "id": "JJc-WOt3oZtS"
      }
    },
    {
      "cell_type": "markdown",
      "source": [
        "# **Estructura condicional**\n",
        "La estructura condicional en Python se utiliza para ejecutar diferentes bloques de código según si se cumple o no una condición (**if-else**). En esta estructura, la **condicion** es una expresión booleana que se evalúa como verdadera o falsa. Si la condicion es **verdadera**, se ejecuta el bloque de código que se encuentra debajo del **if**, y si es **falsa**, se ejecuta el bloque de código que se encuentra debajo del **else**.\n",
        "\n",
        "\n",
        "Además de la estructura if-else, en Python también existe la estructura **if-elif-else**, que se utiliza para evaluar múltiples condiciones. En esta estructura, se evalúan las condiciones en orden, y se ejecuta el bloque de código correspondiente al primer caso que se cumpla. Si ninguna de las condiciones se cumple, se ejecuta el bloque de código que se encuentra debajo del else."
      ],
      "metadata": {
        "id": "x1OL4aNKous5"
      }
    },
    {
      "cell_type": "code",
      "source": [
        "# Determinar el un usuario cumple los requisitos para prestar el servicio militar\n",
        "# Requisitos = Hombre, mayor o igual a 18 años\n",
        "\n",
        "# Entrada\n",
        "genero = str(input(\"Por favor ingrese genero (M o F): \")).upper()\n",
        "edad = int(input(\"Por favor ingrese su edad: \"))\n",
        "\n",
        "# Proceso - salida\n",
        "if(genero == \"M\" and edad >= 18):\n",
        "  print(\"Cumple con los requisitos para el Servicio Militar\")\n",
        "else:\n",
        "  print(\"NO cumple con los requisitos para el Servicio Militar\")"
      ],
      "metadata": {
        "id": "KjxkFniuqRQY"
      },
      "execution_count": null,
      "outputs": []
    },
    {
      "cell_type": "code",
      "source": [
        "# Determinar el un numero entero es positivo, negativo o cero\n",
        "numero = int(input(\"Ingrese un número: \"))\n",
        "\n",
        "if numero > 0:\n",
        "    print(\"El número ingresado es positivo\")\n",
        "elif numero < 0:\n",
        "    print(\"El número ingresado es negativo\")\n",
        "else:\n",
        "    print(\"El número ingresado es cero\")"
      ],
      "metadata": {
        "id": "n6b--OZ_sEop"
      },
      "execution_count": null,
      "outputs": []
    },
    {
      "cell_type": "markdown",
      "source": [
        "# **Estructuras repetitivas**\n",
        "Las estructuras repetitivas, también conocidas como bucles, se utilizan en Python para repetir un bloque de código varias veces. En Python, existen dos tipos de bucles: **while** y **for**.\n",
        "\n",
        "* La **estructura while** en Python se utiliza para repetir un bloque de código mientras se cumpla una condición.\n",
        "\n",
        "* La **estructura for** en Python se utiliza para repetir un bloque de código para cada elemento de una secuencia."
      ],
      "metadata": {
        "id": "dJNTn4rWs6Mf"
      }
    },
    {
      "cell_type": "code",
      "source": [
        "# Estructura repetitiva while en Python\n",
        "numero = 1\n",
        "\n",
        "while numero <= 10:\n",
        "    print(numero)\n",
        "    numero += 1"
      ],
      "metadata": {
        "id": "zkciGpS7tqCN"
      },
      "execution_count": null,
      "outputs": []
    },
    {
      "cell_type": "code",
      "source": [
        "# Estructura repetitiva for en Python\n",
        "texto = \"Hola, mundo!\"\n",
        "\n",
        "for caracter in texto:\n",
        "    print(caracter)"
      ],
      "metadata": {
        "id": "yXTeKGPPuY8s"
      },
      "execution_count": null,
      "outputs": []
    },
    {
      "cell_type": "markdown",
      "source": [
        "# **Estructuras de datos**\n",
        "En Python, un **diccionario** es una estructura de datos que se utiliza para almacenar datos en pares de **clave-valor**. Cada clave es única en el diccionario y se utiliza para acceder al valor correspondiente. Cada clave se escribe entre comillas y se separa del valor correspondiente por dos puntos. Los pares clave-valor se separan por comas, y todo el diccionario se encierra entre llaves.\n",
        "\n",
        "diccionario = {\"clave1\": valor1, \"clave2\": valor2, ...}"
      ],
      "metadata": {
        "id": "smwMvfF2xJyb"
      }
    },
    {
      "cell_type": "code",
      "source": [
        "# Crear un diccionario en Python\n",
        "personas = {\"Juan\": 25, \"Maria\": 30, \"Pedro\": 35, \"Alvaro\":34, \"Daniel\": 33, \"Ediccson\":34}\n",
        "\n",
        "# Acceder al valor de una clave en un diccionario\n",
        "edad = personas[\"Maria\"]\n",
        "print(\"La edad de Maria es:\", edad)\n",
        "\n",
        "# Añadir un elemento al un diccionario\n",
        "personas[\"Luis\"] = 28\n",
        "\n",
        "# Modificar un elemento al un diccionario\n",
        "personas[\"Juan\"] = 40\n",
        "\n",
        "# Eliminar un elemento al un diccionario\n",
        "personas.pop(\"Ediccson\")\n",
        "\n",
        "# Recorrer un diccionario con un bucle for\n",
        "for nombre, edad in personas.items():\n",
        "    print(nombre, \"tiene:\", edad, \"años\")\n",
        "\n",
        "\n",
        "# Adicionales\n",
        "print(len(personas)) #Numero de elementos\n",
        "print(type(personas)) #Tipo de variable"
      ],
      "metadata": {
        "id": "rGrxTtAlxkyE"
      },
      "execution_count": null,
      "outputs": []
    },
    {
      "cell_type": "markdown",
      "source": [
        "# **Funciones**\n",
        "En Python, una función es un bloque de código que realiza una tarea específica y que puede ser reutilizado en diferentes partes de un programa. Una función se define utilizando la palabra clave def seguida del nombre de la función y los parámetros de entrada entre paréntesis.\n"
      ],
      "metadata": {
        "id": "tKyAA7Vex-2C"
      }
    },
    {
      "cell_type": "code",
      "source": [
        "def nombre_de_la_funcion(parametro1, parametro2, ...):\n",
        "    # Cuerpo de la función\n",
        "    # Realiza una tarea específica utilizando los parámetros de entrada\n",
        "    # y posiblemente variables internas\n",
        "    \n",
        "    return resultado"
      ],
      "metadata": {
        "id": "VaRNaR2L0Qw3"
      },
      "execution_count": null,
      "outputs": []
    },
    {
      "cell_type": "markdown",
      "source": [
        "Existen diferentes tipos de funciones que se pueden utilizar según la necesidad del programa. A continuación se presentan algunos de los tipos de funciones más comunes:\n",
        "\n",
        "1.   **Funciones sin parámetros:** Son aquellas que no requieren de ningún parámetro de entrada para realizar su tarea."
      ],
      "metadata": {
        "id": "1eNzCLadzEPq"
      }
    },
    {
      "cell_type": "code",
      "source": [
        "def saludar():\n",
        "    print(\"Hola, ¿cómo estás?\")"
      ],
      "metadata": {
        "id": "nT7OEunDyuCO"
      },
      "execution_count": null,
      "outputs": []
    },
    {
      "cell_type": "markdown",
      "source": [
        "2. **Funciones con parámetros:** Son aquellas que reciben uno o más parámetros de entrada que son necesarios para realizar su tarea."
      ],
      "metadata": {
        "id": "Zi4BP6aY0afr"
      }
    },
    {
      "cell_type": "code",
      "source": [
        "def suma(a, b):\n",
        "    resultado = a + b\n",
        "    print(resultado)"
      ],
      "metadata": {
        "id": "jiJqu8iw009Y"
      },
      "execution_count": null,
      "outputs": []
    },
    {
      "cell_type": "markdown",
      "source": [
        "3. **Funciones con valor de retorno:** Son aquellas que devuelven un valor como resultado de su ejecución."
      ],
      "metadata": {
        "id": "xAyf4osk1Ke9"
      }
    },
    {
      "cell_type": "code",
      "source": [
        "def multiplicar(a, b):\n",
        "    resultado = a * b\n",
        "    return resultado"
      ],
      "metadata": {
        "id": "DMeb7DJ61VKO"
      },
      "execution_count": null,
      "outputs": []
    }
  ]
}